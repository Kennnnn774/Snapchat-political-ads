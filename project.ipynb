{
 "cells": [
  {
   "cell_type": "markdown",
   "metadata": {},
   "source": [
    "# Snapchat Political Ads\n",
    "* **After basic data cleaning, exploration, we can raise more questions on the data set**\n",
    "* See data_cleaning.ipynb for information on the more primitive dataframes.\n",
    "* A few example prediction questions to pursue are:\n",
    "    * Predict the reach (number of views) of an ad.\n",
    "    * Predict how much was spent on an ad.\n",
    "    * Predict the target group of an ad. (For example, predict the target gender.)\n",
    "    * Predict the (type of) organization/advertiser behind an ad.\n"
   ]
  },
  {
   "cell_type": "markdown",
   "metadata": {},
   "source": [
    "# Summary of Findings\n",
    "\n",
    "\n",
    "### Introduction\n",
    "We are going to continue using the snapchat political ads data from `data_cleaning.ipynb`. We combined the data of 2018 and data of 2019. At the first glimpse, the data set does not contains many numeric columns: it has over 30 columns, yet it really has two quantitative variables before cleaning: the `Spend` column, and the `Impression` columns. Before writing any codes or doing any further investigation, we think that there is a relationship between its columns, for example, the amount (In local currency) spent by the advertiser over the campaign (up to the current date), and the number of times the Ad has been viewed by Snapchatters.\n",
    "    \n",
    "Spend would be a good dependent variable X and when impression is the dependent variable Y, what we try to predict. Because to think about it, the goal of these advertisement is to persuade more people to vote or pay attention to some campaigns, and it is quite important, and to the benefit of the compaign, to make more impressions. To make snapchat put their ads longer, or to recommend the ads to more people, the companies or organization should pay more. Think about Mike Bloomberg, the American business man who ran for the president in 2020. He spent around 300 million US dollars in his compaign. As a result, he is often seen on the ads on all the platform. (Ask a friend if he/she has saw Mike Bloomberg in an ads before). Besides spend, we will include more features to help predict the Impression, such as gender, region, age... etc. \n",
    "    \n",
    "It would be useful for these organization to decide how many to spend in order to meet their goal of impressions. We will make such model to predict the `impression (target variable)`. Since the number of impression is a numberic, it is not a classfication problem, but a regression problem. The `evaluation metric` we can use for this regression model will be mainly `R²` or sometimes Coefficient of Determination, and Root-Mean-Squared-Error(RMSE).\n",
    "\n",
    "### Baseline Model\n",
    "\n",
    "The number of features: 2\n",
    "\n",
    "We will use spend and gender as features to predict impressions. `Spend`, is said above, a quantitative variable, and `Gender` is nomial: even though it only has male, female, and both as the unique values, the values have no order.\n",
    "\n",
    "For spend, we choose it because spend and impression has a correlational coefficient of 0.84, a strong indication of correlation. Then we put the gender columns in a function transformer in the column transformer. We keep the original spend, and we `one hot encode` gender. At this point, we have a simple linear regression pipeline. \n",
    "\n",
    "For that regression model, we will try different scaling transformation, and we will compare the R^2 value and the RMSE for each model. We plot spend against impressions, and since there are many outliers and the range is big, we cannot see the clear relationship. We assume that it is linear because of correlational coefficient value, but we did the following investigation:\n",
    "\n",
    "If we directly use linear relationship (keep spend whatever it is), we have an average R2 score of 0.433 in 100 predictions, using square root trasformation of regression, we have an average of R2 score of 0.356 in 100 predictions. If we use log transformation, we have an average of R2 score of 0.102 in 100 predictions. They are all bad in our opinion, but it seems like keep spend as what it is works best for the model.\n",
    "\n",
    "The RSME is quite big for the model, because the impressions are huge numbers and any deviation from the predicted value can cause a large RSME. Its average has RSME 2988730.\n",
    "\n",
    "### Final Model\n",
    "\n",
    "Since our baseline model has only a prediction of 0.433, we carefully explored all the other columns and check for the possibility of more data cleaning. For example, Since we have already have `Duration` from our basic data cleaning process, we do not need `StartDate` and `EndDate`. We only do not need the nomial columns that are too unique in its values, such as the `ADID`, `CreativeUrl`, `BillingAddress`, `CreativeProperties`, they have no use in machine learning process and one hot encoding them will produce as many columns as how many rows we have now.\n",
    "\n",
    "    change #1: dropping the above columns\n",
    "\n",
    "    change #2: We realize the spend are not all in USD currency, some of them has different currency so that we cannot use them along with the most USD. \n",
    "    \n",
    "We did some google search: We know that currency values differ each year, the USD to EUR ratio changes all the time. However, it does not matter not much in this calculation, because the currency convertion ratio from January to Feburary might be even higher than the ratio from 2018 to 2019. Therefore there is no need to figure out the exact ratio for that year. We also do not know whether that payment is made at exactly its StartDate, or its EndDate. Therefore the exact value of spend could not be known, yet we can estimate it by finding all the ratios of the median from 2018, and 2019 currency data.\n",
    "\n",
    "We explored `Organization Name`, `candidate ballot information`, and `paying advertisementname` to evaluate if they are good features to use. Candidate ballot information, along with other columns that we investigated further, has too many null values and it is useless for the model. Therefore, we will exlude them from the model\n",
    "\n",
    "Then we explore `age`, and we soon realize that it is too much a mess to extract any features. However, instead of using age as a numberic variable, we can use it as an ordinal feature, and one hot encoded it. We mapped all the age into two features/columns: the low bound/limit, the upper bound. For example, if an ad is designed for people who are older than 28, the low bound will be 2 and the upper bound will just be null.\n",
    "\n",
    "    Change #3: Remove outliers. \n",
    "\n",
    "We did a EDA on spend, after we map it correctly on the corresponding currency. It has too many outliers. Some company spend too much then others, and most company don't spend that much. In fact, if we look at the scatter plot, the easily observable outliers are the extreme spenders. We use 1.5 * IQR, the standard removing outlier approach in statistics, to find the boundaries for the spend we will keep.\n",
    "\n",
    "Here are some more findings as we try different new models with different features:\n",
    "\n",
    "1. Random forest regressors is a better `model type` than linear regression\n",
    "2. It is better to remove CreativeUrl, creativeproperties, and genders as features, they seem to add more noise than helping the prediction.\n",
    "3. Max_depth = 30, min_samples_split=15, min_samples_leaf=2, are the `best paramaters` we found for randomforestregressor, which is better than linear regressor.\n",
    "\n",
    "The `features` we added on the baseline model along with the changes, and why are they good for the data set / our model:\n",
    "\n",
    "1. `Country code`, one hot encoded. The number of impressions can depend on which country the ads is shown to. This can be determined by many factors such as the percentage of active snapchat users in different country... etc.\n",
    "2. `Age's lower boundary`, one hot encoded. This categorize the data into different age targets. Ads that do not have lower or upper boundary / ads that is suitable for all viewers might have higher view.\n",
    "3. `Age's upper boundary`, one hot encoded. Same reason as above, it can be quite influential because it select only a part of the viewers to gain impression.\n",
    "4. `Duration`, standard scaled. It can be useful for the prediction, because the longer the duration is, the more impressions the ads can have. There should be a linear, positive relationship between duration and impressions.\n",
    "\n",
    "### Fairness Evaluation\n",
    "\n",
    "If we scatter plot spending vs impressions, we realize that we get a \"fan\" shape distribution. Therefore we ask: is the model fair on companies or organizations that spend less, or the companies or organizations that spend more? \n",
    "\n",
    "We find 250 to be a good cut to binarize spend, because number of spends less than that and spends more than are rougly equal. They have an observed difference in prediction score: around 3%, is that due to random chance, or they are siginifantly different? We will perform a permutation test:\n",
    "\n",
    "    Null hypothesis: population of ads that spend less, and population of ads that spend more, have same prediction score on impression.\n",
    "\n",
    "    Alternative hypothesis: population of ads that spend less, have better prediction score on impression than the population of ads that spend more.\n",
    "\n",
    "The permutation test randomized shuffle the data so the cheap group and expensive group are randomized every time, not actually depend on their amount of spending. It turns out that it is normal to get a prediction acurracy difference 3%, because the p value is 0.55. We don't reject the null, it seems that the prediction is fair for both cheap and expensive ads population.\n",
    "\n",
    "The `parity measure` we use is the difference in their `R^2 score`, or the pl.score(X) value.\n",
    "\n",
    "The second permutation test we did is to see if for different bins/groups of impressions, the predictions for impression are same. We will split the impressions into 5 groups and check the metric accuracy score.\n",
    "\n",
    "    The null hypothesis is that these group have same predictions. The total variable distance of predictions R^2 scores of the dataframe binned by different impressions, is the same if we randomized the dataframe into 5 random groups. The difference of predictions of each bins just happened by chance.\n",
    "\n",
    "    Alternative hypothesis is that these group have different predictions and they have a greater total variable distance of predictions R^2 scores among different bins of impressions.\n",
    "\n",
    "We will use the significance level of 0.05. In the permutation test, we shuffle the impression column to group them randomly and differently everytime, while keep track of the total variable distance of predictions R^2 scores among different bins of impressions. \n",
    "\n",
    "The result is that the p value is 0.11. We do not reject the null hythesis, because 0.11 is greater than our significant level threshold of 0.05. The observed variations between the R^2 prediction scores of the impressions of different bins, grouped by the pd.qcut function, is random, and not due to significant difference.\n",
    "\n",
    "We can conclude that the model is fair on different amount of impressions."
   ]
  },
  {
   "cell_type": "markdown",
   "metadata": {},
   "source": [
    "# Code"
   ]
  },
  {
   "cell_type": "code",
   "execution_count": 73,
   "metadata": {},
   "outputs": [],
   "source": [
    "import matplotlib.pyplot as plt\n",
    "import numpy as np\n",
    "import os\n",
    "\n",
    "import pandas as pd\n",
    "import seaborn as sns\n",
    "%matplotlib inline\n",
    "%config InlineBackend.figure_format = 'retina'  # Higher resolution figures"
   ]
  },
  {
   "cell_type": "code",
   "execution_count": 74,
   "metadata": {},
   "outputs": [],
   "source": [
    "from sklearn.linear_model import LinearRegression\n",
    "from sklearn.preprocessing import FunctionTransformer\n",
    "from sklearn.preprocessing import OneHotEncoder\n",
    "from sklearn.pipeline import Pipeline\n",
    "from sklearn.compose import ColumnTransformer\n",
    "\n",
    "from sklearn.tree import DecisionTreeRegressor\n",
    "from sklearn.model_selection import train_test_split\n",
    "from sklearn.neighbors import KNeighborsRegressor\n",
    "from sklearn.model_selection import train_test_split\n",
    "\n",
    "from sklearn.preprocessing import StandardScaler\n",
    "from sklearn.ensemble import RandomForestRegressor\n",
    "from sklearn.ensemble import RandomForestClassifier\n",
    "from sklearn.decomposition import PCA\n",
    "from sklearn import svm\n",
    "\n",
    "import statsmodels.api as sm\n",
    "import sklearn as sk\n",
    "from sklearn import linear_model\n",
    "from sklearn.preprocessing import MinMaxScaler\n",
    "from sklearn.neural_network import MLPClassifier\n",
    "from sklearn.metrics import mean_squared_error, r2_score\n",
    "import matplotlib.pyplot as plt\n",
    "from sklearn.svm import SVC\n",
    "from sklearn.metrics import classification_report, accuracy_score\n",
    "\n",
    "from sklearn.svm import LinearSVR\n",
    "import warnings\n",
    "warnings.filterwarnings('ignore')\n",
    "from sklearn.model_selection import GridSearchCV\n",
    "\n",
    "from sklearn import metrics"
   ]
  },
  {
   "cell_type": "markdown",
   "metadata": {},
   "source": [
    "# Load/Clean Data"
   ]
  },
  {
   "cell_type": "markdown",
   "metadata": {},
   "source": [
    "We downloaded both dataset from https://www.snap.com/en-US/political-ads/will to datahub and import both datasets below.(For both 2018 and 2019) We noticed that there are many columns for each data set and in order to minimize confusion, we will use the readme.txt given by Snapchat to understand what each column means. "
   ]
  },
  {
   "cell_type": "code",
   "execution_count": 75,
   "metadata": {
    "scrolled": true
   },
   "outputs": [
    {
     "data": {
      "text/plain": [
       "{'AD ID': 'Unique identifier for each Political Ad.',\n",
       " 'CreativeURL': 'URL link to creative content for the Ad.',\n",
       " 'Currency Code': 'The currency code set for the Ad Account and Ad.',\n",
       " 'Spend': 'Amount (In local currency) spent by the advertiser over the campaign (up to the current date).',\n",
       " 'Impressions': 'Number of times the Ad has been viewed by Snapchatters.',\n",
       " 'Start Date': 'The time at which the Ad was set up to start delivering.',\n",
       " 'End Date': 'The time at which the Ad was set up to stop delivering.',\n",
       " 'Organization Name': 'The name of the Organization within Ads Manager who is responsible for creating the Ad.',\n",
       " 'BillingAddress': 'The address of the Organization within Ads Manager who is responsible for creating the Ad.',\n",
       " 'CandidateBallotInformation': 'The name of the candidate/ ballot initiative associated with the Ad.',\n",
       " 'PayingAdvertiserName': 'Name of the entity providing the funds for the Ad. This is the name we will display within the Snapchat app within our \"Paid for by X\" disclosure.',\n",
       " 'Gender': 'Gender targeting criteria used in the Ad. If empty, then it is targeting all genders.',\n",
       " 'AgeBracket': 'Age targeting criteria used in the Ad. If empty, then it is targeting all ages.',\n",
       " 'CountryCode': 'Country targeting criteria used in the Ad. This is a required field for advertisers and indicates the country Ad impressions will be delivered in.',\n",
       " 'Regions (Included)': 'Region(s) included targeting criteria used in the Ad. This is sub-country and often represents states or provinces. When this field is populated Ad impressions will be delivered within the included Region(s).',\n",
       " 'Regions (Excluded)': 'Region(s) excluded targeting criteria used in the Ad. This is sub-country and often represents states or provinces. When this field is populated Ad impressions will be delivered outside the excluded Region(s).',\n",
       " 'Electoral Districts (Included)': 'Electoral district(s) included targeting criteria used in the Ad. When this field is populated Ad impressions will be delivered within the included Electoral district(s).',\n",
       " 'Electoral Districts (Excluded)': 'Electoral district(s) excluded targeting criteria used in the Ad. When this field is populated Ad impressions will be delivered outside the excluded Electoral district(s).',\n",
       " 'Radius Targeting (Included)': 'Radius Targeting included targeting criteria used in the Ad. When this field is populated Ad impressions will be delivered within the included point-radius circles.',\n",
       " 'Radius Targeting (Excluded)': 'Radius Targeting excluded targeting criteria used in the Ad. When this field is populated Ad impressions will be delivered outside the excluded point-radius circles.',\n",
       " 'Metros (Included)': 'Metro(s) included targeting criteria used in the Ad. When this field is populated Ad impressions will be delivered within the included Metro(s).',\n",
       " 'Metros (Excluded)': 'Metro(s) excluded targeting criteria used in the Ad. When this field is populated Ad impressions will be delivered outside the excluded Metro(s).',\n",
       " 'Postal Code (Included)': 'Postal code(s) included targeting criteria used in the Ad. When this field is populated Ad impressions will be delivered within the included Postal code(s).',\n",
       " 'Postal Code (Excluded)': 'Postal code(s) included targeting criteria used in the Ad. When this field is populated Ad impressions will be delivered outside the excluded Postal code(s).',\n",
       " 'Location Categories (Included)': 'Location categories included targeting criteria used in the Ad. When this field is populated Ad impressions will be delivered within the included Location categories.',\n",
       " 'Location Categories (Exlcuded)': 'Location categories included targeting criteria used in the Ad. When this field is populated Ad impressions will be delivered outside the excluded Location categories.',\n",
       " 'Interests': 'Interest audience(s) targeting criteria used in the Ad. If empty, then no Interest targeting was used.',\n",
       " 'OsType': 'Operating system targeting criteria used in the Ad. If empty, then it is targeting all operating systems.',\n",
       " 'Segments': 'Segments targeting criteria used in the Ad. This is advertiser-specific data used such as Snap Audience Match or Lookalike audiences.',\n",
       " 'Language': 'Language targeting criteria used in the Ad. If empty, then no Language targeting was used.',\n",
       " 'AdvancedDemographics': '3rd party data segments targeting criteria used in the Ad. If empty, then no 3rd party data segments were used.',\n",
       " 'Target Connection Type': 'Internet connection type targeting criteria used in the Ad. If empty, then no internet connect type targeting was used.',\n",
       " 'Targeting Carrier (ISP)': 'Carrier type targeting criteria used in the Ad. If empty, then is it targeting all carrier types.',\n",
       " 'CreativeProperties': 'The web view URL attachment specified in Ad’s call to action.'}"
      ]
     },
     "execution_count": 75,
     "metadata": {},
     "output_type": "execute_result"
    }
   ],
   "source": [
    "a18 = pd.read_csv('pa2018.csv')\n",
    "a19 = pd.read_csv('pa2019.csv')\n",
    "rms = open('readme.txt').readlines()\n",
    "rms = [r for r in rms if r != '\\n']\n",
    "rd = {}\n",
    "rms = rms[3:-1]\n",
    "for r in rms:\n",
    "    sps = r.split(' - ')\n",
    "    rd[sps[0]] = sps[1][:-1]\n",
    "#rd is the column description dictionary that we can use later.\n",
    "#for example, check the third column, 'spend' from readme.txt\n",
    "rd[a19.columns[3]]\n",
    "rd"
   ]
  },
  {
   "cell_type": "markdown",
   "metadata": {},
   "source": [
    "Fill missing date time. Reason: missing date time most likely mean the ad has not finished"
   ]
  },
  {
   "cell_type": "code",
   "execution_count": 76,
   "metadata": {},
   "outputs": [],
   "source": [
    "a18['EndDate'] = a18.EndDate.fillna('2018/12/31 23:59:59Z')\n",
    "a19['EndDate'] = a19.EndDate.fillna('2019/12/31 23:59:59Z')"
   ]
  },
  {
   "cell_type": "markdown",
   "metadata": {},
   "source": [
    "  Concatenate the 2018 CSV and the 2019 CSV into one DataFrame so that we have data from both years. Check if the concatination is successful by looking at its dimensions. Save the dataFrame as a new variable called `ads`"
   ]
  },
  {
   "cell_type": "code",
   "execution_count": 77,
   "metadata": {},
   "outputs": [],
   "source": [
    "ads = pd.concat([a18, a19])"
   ]
  },
  {
   "cell_type": "markdown",
   "metadata": {},
   "source": [
    "Z at the end of the StartDate and EndDate stand for zulu timezone, which is UTC. The data is uniform: all the times end on 'Z'. We will convert these time to pandas timestamp. Directly converting the time will be ok because they are all the in same timezone.\n",
    "\n",
    "We will calculate the duration of the time when each ads was up and assign it to a new column called `Duration`"
   ]
  },
  {
   "cell_type": "code",
   "execution_count": 78,
   "metadata": {
    "scrolled": false
   },
   "outputs": [
    {
     "data": {
      "text/plain": [
       "0        5 days 05:59:11\n",
       "1        0 days 06:57:48\n",
       "2       29 days 14:59:00\n",
       "3        5 days 23:59:23\n",
       "4        4 days 01:54:33\n",
       "              ...       \n",
       "3604     5 days 09:13:02\n",
       "3605   103 days 03:16:38\n",
       "3606    20 days 05:59:51\n",
       "3607    27 days 02:32:00\n",
       "3608     9 days 00:00:00\n",
       "Name: Duration, Length: 4268, dtype: timedelta64[ns]"
      ]
     },
     "execution_count": 78,
     "metadata": {},
     "output_type": "execute_result"
    }
   ],
   "source": [
    "ads.StartDate.apply(lambda x: x[-1]).unique(), ads.EndDate.dropna().apply(lambda x: x[-1]).unique()\n",
    "ads = ads.astype({'StartDate':'datetime64', 'EndDate':'datetime64'})\n",
    "ads = ads.assign(Duration = ads.EndDate - ads.StartDate)\n",
    "ads.Duration"
   ]
  },
  {
   "cell_type": "code",
   "execution_count": 79,
   "metadata": {},
   "outputs": [],
   "source": [
    "#ads.any()[ads.any() == False]"
   ]
  },
  {
   "cell_type": "markdown",
   "metadata": {},
   "source": [
    "Electoral Districts (Excluded), Targeting Connection Type, and Targeting Carrier (ISP) are columns that has all null values as keys. Therefore we will drop these 3 columns, which are for simplier analysis. "
   ]
  },
  {
   "cell_type": "code",
   "execution_count": 80,
   "metadata": {},
   "outputs": [
    {
     "name": "stdout",
     "output_type": "stream",
     "text": [
      "Electoral Districts (Excluded): Electoral district(s) excluded targeting criteria used in the Ad. When this field is populated Ad impressions will be delivered outside the excluded Electoral district(s).\n",
      "Target Connection Type: Internet connection type targeting criteria used in the Ad. If empty, then no internet connect type targeting was used.\n",
      "Targeting Carrier (ISP): Carrier type targeting criteria used in the Ad. If empty, then is it targeting all carrier types.\n"
     ]
    }
   ],
   "source": [
    "print('Electoral Districts (Excluded): '+ rd['Electoral Districts (Excluded)'])\n",
    "print('Target Connection Type: ' + rd['Target Connection Type'])\n",
    "print('Targeting Carrier (ISP): ' + rd['Targeting Carrier (ISP)'])"
   ]
  },
  {
   "cell_type": "markdown",
   "metadata": {},
   "source": [
    "Based on the data description, we decided that it is safe to assume that Electoral Districts (Excluded) has no use for this analysis, no internet connect type targeting was used for targeting connection type, and Targeting Carrier (ISP) is targeting all carrier types. We will remove these columns from the dataset."
   ]
  },
  {
   "cell_type": "code",
   "execution_count": 81,
   "metadata": {},
   "outputs": [
    {
     "data": {
      "text/plain": [
       "(4268, 32)"
      ]
     },
     "execution_count": 81,
     "metadata": {},
     "output_type": "execute_result"
    }
   ],
   "source": [
    "ads = ads.drop((ads.any()[ads.any() == False]).index, axis = 1)\n",
    "ads.shape"
   ]
  },
  {
   "cell_type": "code",
   "execution_count": null,
   "metadata": {},
   "outputs": [],
   "source": []
  },
  {
   "cell_type": "markdown",
   "metadata": {},
   "source": [
    "# Baseline Model"
   ]
  },
  {
   "cell_type": "markdown",
   "metadata": {},
   "source": [
    "Since we are trying to predict Impressions, we will need to find quantitative columns data that are related to impressions. Do a simple EDA by checking the dtypes of the data frame.\n",
    "\n",
    "We will make a new dataframe called spa stands for snapchat politcal ads, and this dataframe is specifically used for machine learning"
   ]
  },
  {
   "cell_type": "code",
   "execution_count": 82,
   "metadata": {
    "scrolled": true
   },
   "outputs": [],
   "source": [
    "spa = ads.copy().reset_index()"
   ]
  },
  {
   "cell_type": "code",
   "execution_count": 83,
   "metadata": {
    "scrolled": true
   },
   "outputs": [
    {
     "data": {
      "text/plain": [
       "ADID                                       object\n",
       "CreativeUrl                                object\n",
       "Currency Code                              object\n",
       "Spend                                       int64\n",
       "Impressions                                 int64\n",
       "StartDate                          datetime64[ns]\n",
       "EndDate                            datetime64[ns]\n",
       "OrganizationName                           object\n",
       "BillingAddress                             object\n",
       "CandidateBallotInformation                 object\n",
       "PayingAdvertiserName                       object\n",
       "Gender                                     object\n",
       "AgeBracket                                 object\n",
       "CountryCode                                object\n",
       "Regions (Included)                         object\n",
       "Regions (Excluded)                         object\n",
       "Electoral Districts (Included)             object\n",
       "Radius Targeting (Included)                object\n",
       "Radius Targeting (Excluded)                object\n",
       "Metros (Included)                          object\n",
       "Metros (Excluded)                          object\n",
       "Postal Codes (Included)                    object\n",
       "Postal Codes (Excluded)                    object\n",
       "Location Categories (Included)             object\n",
       "Location Categories (Excluded)             object\n",
       "Interests                                  object\n",
       "OsType                                     object\n",
       "Segments                                   object\n",
       "Language                                   object\n",
       "AdvancedDemographics                       object\n",
       "CreativeProperties                         object\n",
       "Duration                          timedelta64[ns]\n",
       "dtype: object"
      ]
     },
     "execution_count": 83,
     "metadata": {},
     "output_type": "execute_result"
    }
   ],
   "source": [
    "ads.dtypes"
   ]
  },
  {
   "cell_type": "markdown",
   "metadata": {},
   "source": [
    "This data set does not seem to have many quantitative data, which is important in our regressive prediction. We will take spend because it is important for this predictions. The more moeny each add spends, the more impressions it should get. In fact, it has a quite good corrcoef value"
   ]
  },
  {
   "cell_type": "code",
   "execution_count": 84,
   "metadata": {},
   "outputs": [
    {
     "data": {
      "text/plain": [
       "0.8422988483906694"
      ]
     },
     "execution_count": 84,
     "metadata": {},
     "output_type": "execute_result"
    }
   ],
   "source": [
    "np.corrcoef(spa.Spend, spa.Impressions)[0][1]"
   ]
  },
  {
   "cell_type": "markdown",
   "metadata": {},
   "source": [
    "Will gender plays a role in the impression? We do not try know the answer in \"does women view more ads than men in snapchat\", but we will add that into our model because some ads that specially target women and the ads that specially target men might have some difference in their nature so that it can be a factor in impressions"
   ]
  },
  {
   "cell_type": "markdown",
   "metadata": {},
   "source": [
    "The function `explore` allows us to check the number of unique values, and the value counts for a column in spa. We will first use this function on gender"
   ]
  },
  {
   "cell_type": "code",
   "execution_count": 85,
   "metadata": {},
   "outputs": [],
   "source": [
    "def explore(col):\n",
    "    return ('Number of unique values: '+ str(len(spa[col].unique())), spa[col].value_counts())"
   ]
  },
  {
   "cell_type": "code",
   "execution_count": 86,
   "metadata": {},
   "outputs": [
    {
     "data": {
      "text/plain": [
       "('Number of unique values: 3', FEMALE    293\n",
       " MALE       92\n",
       " Name: Gender, dtype: int64)"
      ]
     },
     "execution_count": 86,
     "metadata": {},
     "output_type": "execute_result"
    }
   ],
   "source": [
    "explore('Gender')"
   ]
  },
  {
   "cell_type": "markdown",
   "metadata": {},
   "source": [
    "Create the necessary function transformer of gender column. We one hot encode the gender columns, so we can extract the feature of this columns"
   ]
  },
  {
   "cell_type": "code",
   "execution_count": 87,
   "metadata": {},
   "outputs": [],
   "source": [
    "def gender_func(df):\n",
    "    srs = df.Gender\n",
    "    def map_gender(x):\n",
    "        if pd.isna(x): \n",
    "            return \"Both\"\n",
    "        return x\n",
    "    return OneHotEncoder().fit_transform(srs.apply(map_gender).to_frame())"
   ]
  },
  {
   "cell_type": "markdown",
   "metadata": {},
   "source": [
    "### Build a simple linear regression model"
   ]
  },
  {
   "cell_type": "code",
   "execution_count": 88,
   "metadata": {},
   "outputs": [
    {
     "data": {
      "text/plain": [
       "<matplotlib.collections.PathCollection at 0x7f46809c1c50>"
      ]
     },
     "execution_count": 88,
     "metadata": {},
     "output_type": "execute_result"
    },
    {
     "data": {
      "image/png": "[encoded data removed]",
      "text/plain": [
       "<Figure size 432x288 with 1 Axes>"
      ]
     },
     "metadata": {
      "image/png": {
       "height": 258,
       "width": 372
      },
      "needs_background": "light"
     },
     "output_type": "display_data"
    }
   ],
   "source": [
    "plt.scatter(spa.Spend, spa.Impressions)"
   ]
  },
  {
   "cell_type": "markdown",
   "metadata": {},
   "source": [
    "The plot looks quite linear, but we will make three models, use different functiontransformer on spend column every time.\n",
    "\n",
    "    1. Directly using linear relationship"
   ]
  },
  {
   "cell_type": "code",
   "execution_count": 89,
   "metadata": {},
   "outputs": [
    {
     "data": {
      "text/plain": [
       "0.43267525194611617"
      ]
     },
     "execution_count": 89,
     "metadata": {},
     "output_type": "execute_result"
    }
   ],
   "source": [
    "def linear(x):\n",
    "    preproc = ColumnTransformer(transformers=[('Spend', FunctionTransformer(lambda x: x), ['Spend']), \n",
    "                                          ('gender', FunctionTransformer(gender_func), ['Gender'])])\n",
    "    pl = Pipeline(steps=[('preprocessor', preproc), ('regressor', LinearRegression())]) \n",
    "    X = spa.drop('Impressions', axis=1)\n",
    "    y = spa.Impressions\n",
    "    X_tr, X_ts, y_tr, y_ts = train_test_split(X, y, test_size=0.25)\n",
    "    pl.fit(X_tr, y_tr)\n",
    "    return pl.score(X_ts, y_ts)\n",
    "\n",
    "\n",
    "\n",
    "pd.Series(range(100)).apply(linear).mean()"
   ]
  },
  {
   "cell_type": "markdown",
   "metadata": {},
   "source": [
    "    2. Using Square root transformation"
   ]
  },
  {
   "cell_type": "code",
   "execution_count": 90,
   "metadata": {},
   "outputs": [
    {
     "data": {
      "text/plain": [
       "0.35682478322706696"
      ]
     },
     "execution_count": 90,
     "metadata": {},
     "output_type": "execute_result"
    }
   ],
   "source": [
    "def sqrte(x):\n",
    "    preproc = ColumnTransformer(transformers=[('Spend', FunctionTransformer(lambda x: np.sqrt(x)), ['Spend']), \n",
    "                                              ('gender', FunctionTransformer(gender_func), ['Gender'])])\n",
    "    pl = Pipeline(steps=[('preprocessor', preproc), ('regressor', LinearRegression())]) \n",
    "    X = spa.drop('Impressions', axis=1)\n",
    "    y = spa.Impressions\n",
    "    X_tr, X_ts, y_tr, y_ts = train_test_split(X, y, test_size=0.25)\n",
    "    pl.fit(X_tr, y_tr)\n",
    "    return pl.score(X_ts, y_ts)\n",
    "\n",
    "pd.Series(range(100)).apply(sqrte).mean()"
   ]
  },
  {
   "cell_type": "markdown",
   "metadata": {},
   "source": [
    "    3. Using Log transformation"
   ]
  },
  {
   "cell_type": "code",
   "execution_count": 91,
   "metadata": {},
   "outputs": [
    {
     "data": {
      "text/plain": [
       "73"
      ]
     },
     "execution_count": 91,
     "metadata": {},
     "output_type": "execute_result"
    }
   ],
   "source": [
    "(spa.Spend == 0).sum()"
   ]
  },
  {
   "cell_type": "code",
   "execution_count": 92,
   "metadata": {
    "scrolled": true
   },
   "outputs": [
    {
     "data": {
      "text/plain": [
       "0.10219447674650754"
      ]
     },
     "execution_count": 92,
     "metadata": {},
     "output_type": "execute_result"
    }
   ],
   "source": [
    "def log_model(x):\n",
    "    def logg(df):\n",
    "        def loggg(num):\n",
    "            if num == 0:\n",
    "                return 0.01\n",
    "            return np.log(num)\n",
    "        return df.Spend.apply(loggg).to_frame()\n",
    "    preproc = ColumnTransformer(transformers=[('Spend', FunctionTransformer(logg), ['Spend']), \n",
    "                                              ('gender', FunctionTransformer(gender_func), ['Gender'])])\n",
    "    pl = Pipeline(steps=[('preprocessor', preproc), ('regressor', LinearRegression())]) \n",
    "    X = spa.drop('Impressions', axis=1)\n",
    "    y = spa.Impressions\n",
    "    X_tr, X_ts, y_tr, y_ts = train_test_split(X, y, test_size=0.25)\n",
    "    pl.fit(X_tr, y_tr)\n",
    "    return pl.score(X_ts, y_ts)\n",
    "\n",
    "pd.Series(range(100)).apply(log_model).mean()"
   ]
  },
  {
   "cell_type": "markdown",
   "metadata": {},
   "source": [
    "By simply comparing the $R^2$ of both models, (average of 100 trials for each) we realize that linear model is the best among too. Which makes sense because of the plot. Our distribution looks like a fan, so it is more likely to have a linear relationship."
   ]
  },
  {
   "cell_type": "markdown",
   "metadata": {},
   "source": [
    "### The model we choose for base line model"
   ]
  },
  {
   "cell_type": "markdown",
   "metadata": {},
   "source": [
    "#### Find R2 and RMSE"
   ]
  },
  {
   "cell_type": "code",
   "execution_count": 93,
   "metadata": {},
   "outputs": [],
   "source": [
    "def baseline_model():\n",
    "    preproc = ColumnTransformer(transformers=[('Spend', FunctionTransformer(lambda x: x), ['Spend']), \n",
    "                                          ('gender', FunctionTransformer(gender_func), ['Gender'])])\n",
    "    pl = Pipeline(steps=[('preprocessor', preproc), ('regressor', LinearRegression())]) \n",
    "    X = spa.drop('Impressions', axis=1)\n",
    "    y = StandardScaler().fit_transform(pd.DataFrame(spa.Impressions))\n",
    "    X_tr, X_ts, y_tr, y_ts = train_test_split(X, y, test_size=0.25)\n",
    "    pl.fit(X_tr, y_tr)\n",
    "    return pl.score(X_ts, y_ts)\n",
    "\n",
    "bl_results = pd.Series(range(1000)).apply(lambda x: baseline_model())"
   ]
  },
  {
   "cell_type": "code",
   "execution_count": 94,
   "metadata": {},
   "outputs": [
    {
     "data": {
      "text/plain": [
       "0.42973582068969546"
      ]
     },
     "execution_count": 94,
     "metadata": {},
     "output_type": "execute_result"
    }
   ],
   "source": [
    "bl_results.mean()"
   ]
  },
  {
   "cell_type": "code",
   "execution_count": 95,
   "metadata": {},
   "outputs": [],
   "source": [
    "def baseline_model_2():\n",
    "    preproc = ColumnTransformer(transformers=[('Spend', FunctionTransformer(lambda x: x), ['Spend']), \n",
    "                                          ('gender', FunctionTransformer(gender_func), ['Gender'])])\n",
    "    pl = Pipeline(steps=[('preprocessor', preproc), ('regressor', LinearRegression())]) \n",
    "    X = spa.drop('Impressions', axis=1)\n",
    "    y = spa.Impressions\n",
    "    X_tr, X_ts, y_tr, y_ts = train_test_split(X, y, test_size=0.25)\n",
    "    pl.fit(X_tr, y_tr)\n",
    "    return np.sqrt(np.mean((pl.predict(X_ts) - y_ts)**2))\n",
    "\n",
    "bl_rmse_results = pd.Series(range(1000)).apply(lambda x: baseline_model_2())"
   ]
  },
  {
   "cell_type": "code",
   "execution_count": 96,
   "metadata": {},
   "outputs": [
    {
     "data": {
      "text/plain": [
       "2988730.2868532543"
      ]
     },
     "execution_count": 96,
     "metadata": {},
     "output_type": "execute_result"
    }
   ],
   "source": [
    "bl_rmse_results.mean()"
   ]
  },
  {
   "cell_type": "markdown",
   "metadata": {},
   "source": [
    "Our RMSE is too large!"
   ]
  },
  {
   "cell_type": "markdown",
   "metadata": {},
   "source": [
    "# Final Model Model"
   ]
  },
  {
   "cell_type": "markdown",
   "metadata": {},
   "source": [
    "### Columns Selection"
   ]
  },
  {
   "cell_type": "markdown",
   "metadata": {},
   "source": [
    "We need to carefully go through all the columns in order to select useful columns for machine learning. There are over 30 columns, although at the first galance, it only have 1 quantative columns, we can extract more features from the table,"
   ]
  },
  {
   "cell_type": "markdown",
   "metadata": {},
   "source": [
    "We will temporarily remove all the columns that we arbitrarily decided little use or no use to the prediction we will have.\n",
    "For example, Since we have already get `Duration`, we probabiliy do not need `StartDate` and `EndDate`. \n",
    "\n",
    "We do not need the nomial columns that are too unique, such as the `ADID`, `CreativeUrl`, `BillingAddress`, `CreativeProperties`, they have no use in machine learning process and one hot encoding them will produce as many columns as how many rows we have now.\n",
    "\n"
   ]
  },
  {
   "cell_type": "code",
   "execution_count": 97,
   "metadata": {},
   "outputs": [],
   "source": [
    "spa = spa.drop(['StartDate', 'EndDate', 'ADID', 'CreativeUrl', 'BillingAddress', 'CreativeProperties'], axis=1)"
   ]
  },
  {
   "cell_type": "markdown",
   "metadata": {},
   "source": [
    "## More Columns Exploration / Feature Extractions"
   ]
  },
  {
   "cell_type": "markdown",
   "metadata": {},
   "source": [
    "Now we have printed the first row of the dataframe above, with all the columns that can be potential features we can use for ML. We will explore these columns one by one, and once we figure out how to turn these columns into useful quantitative or hot-coded features, we can make wrap these functions with column transformation for baseline model"
   ]
  },
  {
   "cell_type": "code",
   "execution_count": 98,
   "metadata": {
    "scrolled": true
   },
   "outputs": [
    {
     "data": {
      "text/plain": [
       "index                                                    0\n",
       "Currency Code                                          USD\n",
       "Spend                                                  343\n",
       "Impressions                                         111587\n",
       "OrganizationName                     Blueprint Interactive\n",
       "CandidateBallotInformation                             NaN\n",
       "PayingAdvertiserName              Planned Parenthood Votes\n",
       "Gender                                              FEMALE\n",
       "AgeBracket                                           18-34\n",
       "CountryCode                                  united states\n",
       "Regions (Included)                  Florida,Georgia,Nevada\n",
       "Regions (Excluded)                                     NaN\n",
       "Electoral Districts (Included)                         NaN\n",
       "Radius Targeting (Included)                            NaN\n",
       "Radius Targeting (Excluded)                            NaN\n",
       "Metros (Included)                                      NaN\n",
       "Metros (Excluded)                                      NaN\n",
       "Postal Codes (Included)                                NaN\n",
       "Postal Codes (Excluded)                                NaN\n",
       "Location Categories (Included)                         NaN\n",
       "Location Categories (Excluded)                         NaN\n",
       "Interests                                              NaN\n",
       "OsType                                                 NaN\n",
       "Segments                            Provided by Advertiser\n",
       "Language                                                en\n",
       "AdvancedDemographics                                   NaN\n",
       "Duration                                   5 days 05:59:11\n",
       "Name: 0, dtype: object"
      ]
     },
     "execution_count": 98,
     "metadata": {},
     "output_type": "execute_result"
    }
   ],
   "source": [
    "spa.iloc[0]"
   ]
  },
  {
   "cell_type": "markdown",
   "metadata": {},
   "source": [
    "    Explore currency code and spend"
   ]
  },
  {
   "cell_type": "code",
   "execution_count": 99,
   "metadata": {},
   "outputs": [
    {
     "data": {
      "text/plain": [
       "('Number of unique values: 5', USD    2532\n",
       " EUR     708\n",
       " GBP     588\n",
       " CAD     400\n",
       " AUD      40\n",
       " Name: Currency Code, dtype: int64)"
      ]
     },
     "execution_count": 99,
     "metadata": {},
     "output_type": "execute_result"
    }
   ],
   "source": [
    "explore('Currency Code')"
   ]
  },
  {
   "cell_type": "markdown",
   "metadata": {},
   "source": [
    "It looks like we do not have just USD. We need to convert the currency to USD, the most frequent value\n",
    "\n",
    "We need to do some google to find out."
   ]
  },
  {
   "cell_type": "markdown",
   "metadata": {},
   "source": [
    "(We know that currency values differ each year, the USD to EUR ratio changes all the time. However, it does not matter not much in this calculation, because the currency convertion ratio from January to Feburary might be even higher than the ratio from 2018 to 2019. Therefore there is no need to figure out the exact ratio for that year. We also do not know whether that payment is made at its StartDate, or its EndDate. Therefore the exact value of spend could not be known, yet we can estimate it by finding all the ratios of the median from 2018, and 2019 currency data)"
   ]
  },
  {
   "cell_type": "code",
   "execution_count": 100,
   "metadata": {},
   "outputs": [],
   "source": [
    "#average of currency convertion of 2018 and 2019, \n",
    "#1 eur => 1.15 usd\n",
    "currency = {\n",
    "    'EUR': 1.15,\n",
    "    'GBP': 1.3,\n",
    "    'CAD': 1.3,\n",
    "    'AUD': 0.73,\n",
    "    'USD': 1\n",
    "}\n",
    "\n",
    "def current_convertion(row):\n",
    "    row['Spend'] = row['Spend'] * currency[row['Currency Code']]\n",
    "    return row\n",
    "\n",
    "spa = spa.apply(lambda x: current_convertion(x), axis=1).drop('Currency Code', axis=1)"
   ]
  },
  {
   "cell_type": "code",
   "execution_count": 101,
   "metadata": {},
   "outputs": [
    {
     "data": {
      "text/plain": [
       "0.8460687978739078"
      ]
     },
     "execution_count": 101,
     "metadata": {},
     "output_type": "execute_result"
    }
   ],
   "source": [
    "np.corrcoef(spa.Spend, spa.Impressions)[0][1]"
   ]
  },
  {
   "cell_type": "markdown",
   "metadata": {},
   "source": [
    "There is an slight increase in the corrcoef of these two variables!"
   ]
  },
  {
   "cell_type": "code",
   "execution_count": 102,
   "metadata": {},
   "outputs": [
    {
     "data": {
      "text/html": [
       "<div>\n",
       "<style scoped>\n",
       "    .dataframe tbody tr th:only-of-type {\n",
       "        vertical-align: middle;\n",
       "    }\n",
       "\n",
       "    .dataframe tbody tr th {\n",
       "        vertical-align: top;\n",
       "    }\n",
       "\n",
       "    .dataframe thead th {\n",
       "        text-align: right;\n",
       "    }\n",
       "</style>\n",
       "<table border=\"1\" class=\"dataframe\">\n",
       "  <thead>\n",
       "    <tr style=\"text-align: right;\">\n",
       "      <th></th>\n",
       "      <th>index</th>\n",
       "      <th>Spend</th>\n",
       "      <th>Impressions</th>\n",
       "      <th>OrganizationName</th>\n",
       "      <th>CandidateBallotInformation</th>\n",
       "      <th>PayingAdvertiserName</th>\n",
       "      <th>Gender</th>\n",
       "      <th>AgeBracket</th>\n",
       "      <th>CountryCode</th>\n",
       "      <th>Regions (Included)</th>\n",
       "      <th>...</th>\n",
       "      <th>Postal Codes (Included)</th>\n",
       "      <th>Postal Codes (Excluded)</th>\n",
       "      <th>Location Categories (Included)</th>\n",
       "      <th>Location Categories (Excluded)</th>\n",
       "      <th>Interests</th>\n",
       "      <th>OsType</th>\n",
       "      <th>Segments</th>\n",
       "      <th>Language</th>\n",
       "      <th>AdvancedDemographics</th>\n",
       "      <th>Duration</th>\n",
       "    </tr>\n",
       "  </thead>\n",
       "  <tbody>\n",
       "    <tr>\n",
       "      <th>0</th>\n",
       "      <td>0</td>\n",
       "      <td>343.0</td>\n",
       "      <td>111587</td>\n",
       "      <td>Blueprint Interactive</td>\n",
       "      <td>NaN</td>\n",
       "      <td>Planned Parenthood Votes</td>\n",
       "      <td>FEMALE</td>\n",
       "      <td>18-34</td>\n",
       "      <td>united states</td>\n",
       "      <td>Florida,Georgia,Nevada</td>\n",
       "      <td>...</td>\n",
       "      <td>NaN</td>\n",
       "      <td>NaN</td>\n",
       "      <td>NaN</td>\n",
       "      <td>NaN</td>\n",
       "      <td>NaN</td>\n",
       "      <td>NaN</td>\n",
       "      <td>Provided by Advertiser</td>\n",
       "      <td>en</td>\n",
       "      <td>NaN</td>\n",
       "      <td>5 days 05:59:11</td>\n",
       "    </tr>\n",
       "  </tbody>\n",
       "</table>\n",
       "<p>1 rows × 26 columns</p>\n",
       "</div>"
      ],
      "text/plain": [
       "   index  Spend  Impressions       OrganizationName  \\\n",
       "0      0  343.0       111587  Blueprint Interactive   \n",
       "\n",
       "  CandidateBallotInformation      PayingAdvertiserName  Gender AgeBracket  \\\n",
       "0                        NaN  Planned Parenthood Votes  FEMALE      18-34   \n",
       "\n",
       "     CountryCode      Regions (Included)  ... Postal Codes (Included)  \\\n",
       "0  united states  Florida,Georgia,Nevada  ...                     NaN   \n",
       "\n",
       "  Postal Codes (Excluded) Location Categories (Included)  \\\n",
       "0                     NaN                            NaN   \n",
       "\n",
       "  Location Categories (Excluded) Interests OsType                Segments  \\\n",
       "0                            NaN       NaN    NaN  Provided by Advertiser   \n",
       "\n",
       "  Language AdvancedDemographics        Duration  \n",
       "0       en                  NaN 5 days 05:59:11  \n",
       "\n",
       "[1 rows x 26 columns]"
      ]
     },
     "execution_count": 102,
     "metadata": {},
     "output_type": "execute_result"
    }
   ],
   "source": [
    "spa.head(1)"
   ]
  },
  {
   "cell_type": "markdown",
   "metadata": {},
   "source": [
    "    explore Organization Name, candidate ballot information, and paying advertisementname"
   ]
  },
  {
   "cell_type": "code",
   "execution_count": 103,
   "metadata": {},
   "outputs": [
    {
     "data": {
      "text/plain": [
       "('Number of unique values: 365',\n",
       " UnRestrict Minnesota                                     311\n",
       " Blueprint Interactive                                    248\n",
       " The Aber Group                                           223\n",
       " ACRONYM                                                  182\n",
       " HOPE not hate Charitable Trust                           173\n",
       "                                                         ... \n",
       " Choice Creative Solutions                                  1\n",
       " Only American Pride                                        1\n",
       " AGENCE NATIONALE DE PREVENTION ET DE FORMATION (ANPF)      1\n",
       " Curious Minds Media Ltd Pty                                1\n",
       " Australian Labor Party National Secretariat                1\n",
       " Name: OrganizationName, Length: 365, dtype: int64)"
      ]
     },
     "execution_count": 103,
     "metadata": {},
     "output_type": "execute_result"
    }
   ],
   "source": [
    "explore('OrganizationName')"
   ]
  },
  {
   "cell_type": "code",
   "execution_count": 104,
   "metadata": {
    "scrolled": true
   },
   "outputs": [
    {
     "data": {
      "text/plain": [
       "('Number of unique values: 72', General Election            121\n",
       " Warren for President        116\n",
       " Get out the vote             92\n",
       " Register to Vote             29\n",
       " Liberal Democrats            19\n",
       "                            ... \n",
       " Marionna Schlatter            1\n",
       " Kelley Singleton              1\n",
       " Flowers for Sheriff           1\n",
       " UK General Election           1\n",
       " Mike Bloomberg 2020 Inc       1\n",
       " Name: CandidateBallotInformation, Length: 71, dtype: int64)"
      ]
     },
     "execution_count": 104,
     "metadata": {},
     "output_type": "execute_result"
    }
   ],
   "source": [
    "explore('CandidateBallotInformation')"
   ]
  },
  {
   "cell_type": "code",
   "execution_count": 105,
   "metadata": {
    "scrolled": true
   },
   "outputs": [
    {
     "data": {
      "text/plain": [
       "('Number of unique values: 446', UnRestrict Minnesota              311\n",
       " Plan International Canada         210\n",
       " HOPE not hate Charitable Trust    173\n",
       " Warren for President              150\n",
       " ACRONYM                           129\n",
       "                                  ... \n",
       " Ministère de l'Intérieur            1\n",
       " No On L                             1\n",
       " Crunch Simply Digital               1\n",
       " CoMo/Boone County PHHS              1\n",
       " cdH                                 1\n",
       " Name: PayingAdvertiserName, Length: 446, dtype: int64)"
      ]
     },
     "execution_count": 105,
     "metadata": {},
     "output_type": "execute_result"
    }
   ],
   "source": [
    "explore('PayingAdvertiserName')"
   ]
  },
  {
   "cell_type": "code",
   "execution_count": 106,
   "metadata": {},
   "outputs": [],
   "source": [
    "#spa.PayingAdvertiserName.value_counts().tolist()"
   ]
  },
  {
   "cell_type": "markdown",
   "metadata": {},
   "source": [
    "When we one hot code these columns, we will not need all of the unique labels because they are so many of them. After we manually print all the unique count, we think it is appropriate to take 50 most frequent labels for OrganizationName, the 7 most frequent labels for CandidateBallotInformation, and 50 most frequent labels for PayingAdvertiserName. "
   ]
  },
  {
   "cell_type": "code",
   "execution_count": 107,
   "metadata": {},
   "outputs": [
    {
     "data": {
      "text/plain": [
       "3000"
      ]
     },
     "execution_count": 107,
     "metadata": {},
     "output_type": "execute_result"
    }
   ],
   "source": [
    "srs = spa.OrganizationName\n",
    "value_ct = srs.value_counts()\n",
    "important = value_ct[:50]\n",
    "important.sum()"
   ]
  },
  {
   "cell_type": "markdown",
   "metadata": {},
   "source": [
    "The first 30 values summed up to more than half of the dataframe (which has 4000+ rows), it is not a bad proportion"
   ]
  },
  {
   "cell_type": "code",
   "execution_count": 108,
   "metadata": {},
   "outputs": [],
   "source": [
    "def map_others(important, x):\n",
    "    if pd.isna(x):\n",
    "        return 'Null'\n",
    "    if x not in important.index:\n",
    "        return 'Others'\n",
    "    else:\n",
    "        return x\n",
    "from sklearn.preprocessing import OneHotEncoder"
   ]
  },
  {
   "cell_type": "code",
   "execution_count": 109,
   "metadata": {},
   "outputs": [],
   "source": [
    "def organizationname_func(df):\n",
    "    srs = df.OrganizationName\n",
    "    value_ct = srs.value_counts()\n",
    "    important = value_ct[:50]\n",
    "    dff = srs.apply(lambda x: map_others(important, x)).to_frame()\n",
    "    hot = OneHotEncoder().fit_transform(dff)\n",
    "    return hot"
   ]
  },
  {
   "cell_type": "markdown",
   "metadata": {},
   "source": [
    "The majority of CandidateBallotInformation is null, shown below, we will drop it"
   ]
  },
  {
   "cell_type": "code",
   "execution_count": 110,
   "metadata": {},
   "outputs": [
    {
     "data": {
      "text/plain": [
       "407"
      ]
     },
     "execution_count": 110,
     "metadata": {},
     "output_type": "execute_result"
    }
   ],
   "source": [
    "srs = spa.CandidateBallotInformation\n",
    "value_ct = srs.value_counts()\n",
    "important = value_ct[:7]\n",
    "important.sum()"
   ]
  },
  {
   "cell_type": "code",
   "execution_count": 111,
   "metadata": {},
   "outputs": [
    {
     "data": {
      "text/plain": [
       "3698"
      ]
     },
     "execution_count": 111,
     "metadata": {},
     "output_type": "execute_result"
    }
   ],
   "source": [
    "spa.CandidateBallotInformation.isnull().sum()"
   ]
  },
  {
   "cell_type": "code",
   "execution_count": 112,
   "metadata": {},
   "outputs": [],
   "source": [
    "# def candidateballot_func(df):\n",
    "#     srs = df.CandidateBallotInformation\n",
    "#     value_ct = srs.value_counts()\n",
    "#     important = value_ct[:7]\n",
    "#     dff = pd.Series(srs.to_list()).apply(lambda x: map_others(important, x)).to_frame()\n",
    "#     hot = OneHotEncoder().fit_transform(dff)\n",
    "#     return hot\n",
    "\n",
    "#DROPPED!"
   ]
  },
  {
   "cell_type": "code",
   "execution_count": 113,
   "metadata": {},
   "outputs": [],
   "source": [
    "spa = spa.drop('CandidateBallotInformation', axis = 1)"
   ]
  },
  {
   "cell_type": "code",
   "execution_count": 114,
   "metadata": {},
   "outputs": [
    {
     "data": {
      "text/plain": [
       "2686"
      ]
     },
     "execution_count": 114,
     "metadata": {},
     "output_type": "execute_result"
    }
   ],
   "source": [
    "srs = spa.PayingAdvertiserName\n",
    "value_ct = srs.value_counts()\n",
    "important = value_ct[:50]\n",
    "important.sum()"
   ]
  },
  {
   "cell_type": "code",
   "execution_count": 115,
   "metadata": {},
   "outputs": [],
   "source": [
    "def payingad_func(df):\n",
    "    srs = df.PayingAdvertiserName\n",
    "    value_ct = srs.value_counts()\n",
    "    important = value_ct[:50]\n",
    "    dff = pd.Series(srs.to_list()).apply(lambda x: map_others(important, x)).to_frame()\n",
    "    hot = OneHotEncoder().fit_transform(dff)\n",
    "    return hot"
   ]
  },
  {
   "cell_type": "markdown",
   "metadata": {},
   "source": [
    "So we created two functions: \n",
    "\n",
    "`organizationname_func`\n",
    "        \n",
    "`payingad_func`\n",
    "\n",
    "They all take in a parameter df. \n",
    "\n",
    "And output a onehotencoder object\n",
    "\n",
    "We will need these functions in the column transformation"
   ]
  },
  {
   "cell_type": "markdown",
   "metadata": {},
   "source": [
    "    Explore Age"
   ]
  },
  {
   "cell_type": "code",
   "execution_count": 116,
   "metadata": {
    "scrolled": true
   },
   "outputs": [
    {
     "data": {
      "text/plain": [
       "(('Number of unique values: 124', 18+      1699\n",
       "  18-34     257\n",
       "  18-24     174\n",
       "  18-40     173\n",
       "  17+       145\n",
       "           ... \n",
       "  20-21       1\n",
       "  17-29       1\n",
       "  25-29       1\n",
       "  18-27       1\n",
       "  19-27       1\n",
       "  Name: AgeBracket, Length: 123, dtype: int64),\n",
       " array(['18-34', '18-20', nan, '18+', '18-28', '30+', '25+', '25-', '34-',\n",
       "        '16-25', '15-24', '17+', '25-29', '18-24', '15+', '29+', '20-29',\n",
       "        '16-24', '18-26', '18-29', '18-18', '17-25', '18-25', '26+', '30-',\n",
       "        '20+', '21-25', '18-30', '21-30', '17-24', '19-27', '22+', '15-22',\n",
       "        '18-23', '19-19', '35++', '20-', '15-34', '24-', '23-', '16-22',\n",
       "        '18-', '31-34', '15-19', '26-30', '21+', '17-29', '16-', '18-40',\n",
       "        '21-34', '16+', '14-21', '20-23', '19+', '14-19', '17-', '35+',\n",
       "        '17-23', '21-45', '25-34', '18-35', '17-40', '35-45', '15-17',\n",
       "        '17-20', '15-20', '17-35', '16-19', '19-34', '21-24', '18-39',\n",
       "        '28+', '24-34', '25-27', '19-', '20-24', '15-30', '17-34', '18-19',\n",
       "        '16-18', '18-21', '14-16', '26-', '15-23', '35-', '15-25', '16-34',\n",
       "        '17-30', '18-27', '14-18', '15-35', '24-35', '24+', '18-33',\n",
       "        '26-34', '18-44', '20-34', '16-21', '20-21', '18-22', '23-34',\n",
       "        '22-32', '21-', '16-30', '19-24', '45-', '15-18', '17-18', '18-32',\n",
       "        '14-20', '19-25', '24-44', '20-26', '14-17', '33+', '20-25',\n",
       "        '23-24', '16-36', '14-22', '18-45', '23-33', '17-21', '14-25',\n",
       "        '19-30'], dtype=object))"
      ]
     },
     "execution_count": 116,
     "metadata": {},
     "output_type": "execute_result"
    }
   ],
   "source": [
    "explore('AgeBracket'), spa.AgeBracket.unique()                                                                                  "
   ]
  },
  {
   "cell_type": "markdown",
   "metadata": {},
   "source": [
    "We think that we might be able to translate age into a quantitative columns first"
   ]
  },
  {
   "cell_type": "markdown",
   "metadata": {},
   "source": [
    "it turns out that if we just average the lower and upper bound of age, which is turnning it into a number, it is really hard to find what does cases like \"17+\" belongs to"
   ]
  },
  {
   "cell_type": "markdown",
   "metadata": {},
   "source": [
    "Therefore, we will make two columns for age, first columns is the lower bound, second column is upper bound. 1 means between 10 - 20 years old, 3 means between 30 - 40 years old, and null means there is no boundry"
   ]
  },
  {
   "cell_type": "code",
   "execution_count": 117,
   "metadata": {},
   "outputs": [
    {
     "data": {
      "text/plain": [
       "array([('1', '3'), ('1', '2'), ('null', 'null'), ('1', 'null'),\n",
       "       ('3', 'null'), ('2', 'null'), ('null', '2'), ('null', '3'),\n",
       "       ('2', '2'), ('1', '1'), ('2', '3'), ('null', '1'), ('3', '3'),\n",
       "       ('1', '4'), ('2', '4'), ('3', '4'), ('null', '4')], dtype=object)"
      ]
     },
     "execution_count": 117,
     "metadata": {},
     "output_type": "execute_result"
    }
   ],
   "source": [
    "import re\n",
    "def change_age(num):\n",
    "    if '-' in str(num) and str(num)[-1] != '-':\n",
    "        aa = str(num).split('-')\n",
    "        return (aa[0][0], aa[1][0])\n",
    "    elif pd.isna(num):\n",
    "        return ('null', 'null')\n",
    "    else:\n",
    "        if '+' in num:\n",
    "            return (re.findall('\\d+', num)[0][0], 'null')\n",
    "        else:\n",
    "            return ('null', re.findall('\\d+', num)[0][0])\n",
    "ages = spa.AgeBracket.apply(change_age)\n",
    "ages.unique()"
   ]
  },
  {
   "cell_type": "code",
   "execution_count": 118,
   "metadata": {},
   "outputs": [],
   "source": [
    "list1, list2 = zip(*ages)\n",
    "spa = spa.assign(age_lower = list1, age_upper = list2).drop('AgeBracket', axis=1)"
   ]
  },
  {
   "cell_type": "markdown",
   "metadata": {},
   "source": [
    "    Drop the columns with too many null values"
   ]
  },
  {
   "cell_type": "code",
   "execution_count": 119,
   "metadata": {
    "scrolled": true
   },
   "outputs": [
    {
     "data": {
      "text/plain": [
       "index                                0\n",
       "Spend                                0\n",
       "Impressions                          0\n",
       "OrganizationName                     0\n",
       "PayingAdvertiserName                 0\n",
       "Gender                            3883\n",
       "CountryCode                          0\n",
       "Regions (Included)                3091\n",
       "Regions (Excluded)                4223\n",
       "Electoral Districts (Included)    4203\n",
       "Radius Targeting (Included)       3962\n",
       "Radius Targeting (Excluded)       4256\n",
       "Metros (Included)                 4092\n",
       "Metros (Excluded)                 4251\n",
       "Postal Codes (Included)           3425\n",
       "Postal Codes (Excluded)           4151\n",
       "Location Categories (Included)    4252\n",
       "Location Categories (Excluded)    4266\n",
       "Interests                         3174\n",
       "OsType                            4242\n",
       "Segments                          1253\n",
       "Language                          3113\n",
       "AdvancedDemographics              4159\n",
       "Duration                             0\n",
       "age_lower                            0\n",
       "age_upper                            0\n",
       "dtype: int64"
      ]
     },
     "execution_count": 119,
     "metadata": {},
     "output_type": "execute_result"
    }
   ],
   "source": [
    "spa.isnull().sum()"
   ]
  },
  {
   "cell_type": "markdown",
   "metadata": {},
   "source": [
    "#explore('Interests')\n",
    "dropped too because it is too long/unique for each one"
   ]
  },
  {
   "cell_type": "markdown",
   "metadata": {},
   "source": [
    "explore('Segments')\n",
    "dropped too because it only has 'provided by advertiser, and the rest are not specified as \"not provided by advertiser\" from descripton"
   ]
  },
  {
   "cell_type": "code",
   "execution_count": 120,
   "metadata": {},
   "outputs": [],
   "source": [
    "def duration_change(spa):\n",
    "    return spa.Duration.apply(lambda x: x.total_seconds()).to_frame()"
   ]
  },
  {
   "cell_type": "code",
   "execution_count": 121,
   "metadata": {},
   "outputs": [],
   "source": [
    "spa = spa.drop(spa.columns[7:23], axis = 1).drop('index', axis=1)"
   ]
  },
  {
   "cell_type": "code",
   "execution_count": null,
   "metadata": {},
   "outputs": [],
   "source": []
  },
  {
   "cell_type": "code",
   "execution_count": 122,
   "metadata": {},
   "outputs": [
    {
     "data": {
      "text/html": [
       "<div>\n",
       "<style scoped>\n",
       "    .dataframe tbody tr th:only-of-type {\n",
       "        vertical-align: middle;\n",
       "    }\n",
       "\n",
       "    .dataframe tbody tr th {\n",
       "        vertical-align: top;\n",
       "    }\n",
       "\n",
       "    .dataframe thead th {\n",
       "        text-align: right;\n",
       "    }\n",
       "</style>\n",
       "<table border=\"1\" class=\"dataframe\">\n",
       "  <thead>\n",
       "    <tr style=\"text-align: right;\">\n",
       "      <th></th>\n",
       "      <th>Spend</th>\n",
       "      <th>Impressions</th>\n",
       "      <th>OrganizationName</th>\n",
       "      <th>PayingAdvertiserName</th>\n",
       "      <th>Gender</th>\n",
       "      <th>CountryCode</th>\n",
       "      <th>Duration</th>\n",
       "      <th>age_lower</th>\n",
       "      <th>age_upper</th>\n",
       "    </tr>\n",
       "  </thead>\n",
       "  <tbody>\n",
       "    <tr>\n",
       "      <th>0</th>\n",
       "      <td>343.0</td>\n",
       "      <td>111587</td>\n",
       "      <td>Blueprint Interactive</td>\n",
       "      <td>Planned Parenthood Votes</td>\n",
       "      <td>FEMALE</td>\n",
       "      <td>united states</td>\n",
       "      <td>5 days 05:59:11</td>\n",
       "      <td>1</td>\n",
       "      <td>3</td>\n",
       "    </tr>\n",
       "    <tr>\n",
       "      <th>1</th>\n",
       "      <td>8.0</td>\n",
       "      <td>3924</td>\n",
       "      <td>Research Triangle Student Advocacy</td>\n",
       "      <td>ResTri Student Advocacy</td>\n",
       "      <td>FEMALE</td>\n",
       "      <td>united states</td>\n",
       "      <td>0 days 06:57:48</td>\n",
       "      <td>1</td>\n",
       "      <td>3</td>\n",
       "    </tr>\n",
       "    <tr>\n",
       "      <th>2</th>\n",
       "      <td>6.0</td>\n",
       "      <td>2216</td>\n",
       "      <td>Do Something, Inc.</td>\n",
       "      <td>DoSomething.org</td>\n",
       "      <td>NaN</td>\n",
       "      <td>united states</td>\n",
       "      <td>29 days 14:59:00</td>\n",
       "      <td>1</td>\n",
       "      <td>2</td>\n",
       "    </tr>\n",
       "    <tr>\n",
       "      <th>3</th>\n",
       "      <td>317.2</td>\n",
       "      <td>122810</td>\n",
       "      <td>Luton Borough Council</td>\n",
       "      <td>BSBT</td>\n",
       "      <td>NaN</td>\n",
       "      <td>united kingdom</td>\n",
       "      <td>5 days 23:59:23</td>\n",
       "      <td>null</td>\n",
       "      <td>null</td>\n",
       "    </tr>\n",
       "    <tr>\n",
       "      <th>4</th>\n",
       "      <td>3698.0</td>\n",
       "      <td>573475</td>\n",
       "      <td>The Prosper Group</td>\n",
       "      <td>No On L</td>\n",
       "      <td>NaN</td>\n",
       "      <td>united states</td>\n",
       "      <td>4 days 01:54:33</td>\n",
       "      <td>1</td>\n",
       "      <td>null</td>\n",
       "    </tr>\n",
       "  </tbody>\n",
       "</table>\n",
       "</div>"
      ],
      "text/plain": [
       "    Spend  Impressions                    OrganizationName  \\\n",
       "0   343.0       111587               Blueprint Interactive   \n",
       "1     8.0         3924  Research Triangle Student Advocacy   \n",
       "2     6.0         2216                  Do Something, Inc.   \n",
       "3   317.2       122810               Luton Borough Council   \n",
       "4  3698.0       573475                   The Prosper Group   \n",
       "\n",
       "       PayingAdvertiserName  Gender     CountryCode         Duration  \\\n",
       "0  Planned Parenthood Votes  FEMALE   united states  5 days 05:59:11   \n",
       "1   ResTri Student Advocacy  FEMALE   united states  0 days 06:57:48   \n",
       "2           DoSomething.org     NaN   united states 29 days 14:59:00   \n",
       "3                      BSBT     NaN  united kingdom  5 days 23:59:23   \n",
       "4                   No On L     NaN   united states  4 days 01:54:33   \n",
       "\n",
       "  age_lower age_upper  \n",
       "0         1         3  \n",
       "1         1         3  \n",
       "2         1         2  \n",
       "3      null      null  \n",
       "4         1      null  "
      ]
     },
     "execution_count": 122,
     "metadata": {},
     "output_type": "execute_result"
    }
   ],
   "source": [
    "spa.head(5)"
   ]
  },
  {
   "cell_type": "markdown",
   "metadata": {},
   "source": [
    "## Predict Impression"
   ]
  },
  {
   "cell_type": "code",
   "execution_count": 123,
   "metadata": {},
   "outputs": [],
   "source": [
    "def final_model_linearReg():\n",
    "\n",
    "    X = spa.drop('Impressions', axis=1)\n",
    "    y = spa.Impressions\n",
    "    X_tr, X_ts, y_tr, y_ts = train_test_split(X, y, test_size=0.25)\n",
    "    preproc = ColumnTransformer(transformers=[\n",
    "            ('Spend', FunctionTransformer(lambda x:x), ['Spend']),\n",
    "            ('Oga_name', FunctionTransformer(organizationname_func), ['OrganizationName']),\n",
    "            ('Paying', FunctionTransformer(payingad_func), ['PayingAdvertiserName']),\n",
    "            ('gendering', FunctionTransformer(gender_func), ['Gender']),\n",
    "            ('hot country', OneHotEncoder(handle_unknown='ignore'), ['CountryCode']),\n",
    "            ('age lower', OneHotEncoder(), ['age_lower']),\n",
    "            ('age upper', OneHotEncoder(), ['age_upper']),\n",
    "            ])\n",
    "    pl = Pipeline(steps=[('preprocessor', preproc), \n",
    "                         ('regressor', LinearRegression())])\n",
    "    pl.fit(X_tr, y_tr)\n",
    "    return pl.score(X_ts, y_ts)\n"
   ]
  },
  {
   "cell_type": "code",
   "execution_count": 124,
   "metadata": {},
   "outputs": [],
   "source": [
    "linearReg_result = pd.Series(range(10)).apply(lambda x: final_model_linearReg())"
   ]
  },
  {
   "cell_type": "code",
   "execution_count": 125,
   "metadata": {},
   "outputs": [
    {
     "data": {
      "text/plain": [
       "0    0.739432\n",
       "1    0.436842\n",
       "2    0.541698\n",
       "3    0.386092\n",
       "4    0.408529\n",
       "5    0.373198\n",
       "6    0.422067\n",
       "7    0.521096\n",
       "8    0.524623\n",
       "9    0.362865\n",
       "dtype: float64"
      ]
     },
     "execution_count": 125,
     "metadata": {},
     "output_type": "execute_result"
    }
   ],
   "source": [
    "linearReg_result"
   ]
  },
  {
   "cell_type": "markdown",
   "metadata": {},
   "source": [
    "We are getting some very inaccurate predictions. It might happen because of the outliers.\n",
    "\n",
    "We will remove extreme values of Spend. These values will greatly affect the result of the ML"
   ]
  },
  {
   "cell_type": "markdown",
   "metadata": {},
   "source": [
    "### EDA"
   ]
  },
  {
   "cell_type": "code",
   "execution_count": 126,
   "metadata": {},
   "outputs": [
    {
     "data": {
      "text/plain": [
       "Text(0.5, 1.0, 'Impressions')"
      ]
     },
     "execution_count": 126,
     "metadata": {},
     "output_type": "execute_result"
    },
    {
     "data": {
      "image/png": "[encoded data removed]",
      "text/plain": [
       "<Figure size 720x432 with 2 Axes>"
      ]
     },
     "metadata": {
      "image/png": {
       "height": 372,
       "width": 617
      },
      "needs_background": "light"
     },
     "output_type": "display_data"
    }
   ],
   "source": [
    "fig, axs = plt.subplots(1,2,figsize=(10,6))\n",
    "\n",
    "# plot spend\n",
    "axs[0].boxplot(ads.Spend)\n",
    "axs[0].set_title('Spend')\n",
    "\n",
    "# plot Impression\n",
    "axs[1].boxplot(ads.Impressions)\n",
    "axs[1].set_title('Impressions')\n"
   ]
  },
  {
   "cell_type": "markdown",
   "metadata": {},
   "source": [
    "There are indeed many outliers!"
   ]
  },
  {
   "cell_type": "code",
   "execution_count": 127,
   "metadata": {},
   "outputs": [
    {
     "data": {
      "image/png": "[encoded data removed]",
      "text/plain": [
       "<Figure size 432x288 with 1 Axes>"
      ]
     },
     "metadata": {
      "image/png": {
       "height": 272,
       "width": 385
      },
      "needs_background": "light"
     },
     "output_type": "display_data"
    }
   ],
   "source": [
    "spend = spa.Spend\n",
    "impressions = spa.Impressions\n",
    "spa.plot(kind='scatter', x='Spend', y='Impressions');"
   ]
  },
  {
   "cell_type": "markdown",
   "metadata": {},
   "source": [
    "Getting rid of the outliers will provide us a better picture"
   ]
  },
  {
   "cell_type": "code",
   "execution_count": 128,
   "metadata": {
    "scrolled": false
   },
   "outputs": [
    {
     "data": {
      "text/plain": [
       "0.25     42.00\n",
       "0.50    205.40\n",
       "0.75    830.05\n",
       "Name: Spend, dtype: float64"
      ]
     },
     "execution_count": 128,
     "metadata": {},
     "output_type": "execute_result"
    }
   ],
   "source": [
    "spa.Spend.quantile([0.25,0.5,0.75])"
   ]
  },
  {
   "cell_type": "code",
   "execution_count": 129,
   "metadata": {},
   "outputs": [
    {
     "data": {
      "text/plain": [
       "(2012.1249999999998, -1140.0749999999998)"
      ]
     },
     "execution_count": 129,
     "metadata": {},
     "output_type": "execute_result"
    }
   ],
   "source": [
    "IQR = 830.05 - 42\n",
    "spend_upper = 830.05 + IQR * 1.5\n",
    "spend_lower = 42.00 - IQR * 1.5\n",
    "spend_upper, spend_lower"
   ]
  },
  {
   "cell_type": "code",
   "execution_count": 130,
   "metadata": {},
   "outputs": [
    {
     "data": {
      "image/png": "[encoded data removed]",
      "text/plain": [
       "<Figure size 432x288 with 1 Axes>"
      ]
     },
     "metadata": {
      "image/png": {
       "height": 265,
       "width": 425
      },
      "needs_background": "light"
     },
     "output_type": "display_data"
    }
   ],
   "source": [
    "spa.plot(kind='scatter', x='Spend', y='Impressions', xlim=[0, 2012.12499999999] , ylim=[0, 1000000]);"
   ]
  },
  {
   "cell_type": "code",
   "execution_count": 131,
   "metadata": {},
   "outputs": [],
   "source": [
    "spend_lower = 0 #because it is less than 0"
   ]
  },
  {
   "cell_type": "code",
   "execution_count": 132,
   "metadata": {
    "scrolled": true
   },
   "outputs": [
    {
     "data": {
      "text/html": [
       "<div>\n",
       "<style scoped>\n",
       "    .dataframe tbody tr th:only-of-type {\n",
       "        vertical-align: middle;\n",
       "    }\n",
       "\n",
       "    .dataframe tbody tr th {\n",
       "        vertical-align: top;\n",
       "    }\n",
       "\n",
       "    .dataframe thead th {\n",
       "        text-align: right;\n",
       "    }\n",
       "</style>\n",
       "<table border=\"1\" class=\"dataframe\">\n",
       "  <thead>\n",
       "    <tr style=\"text-align: right;\">\n",
       "      <th></th>\n",
       "      <th>Spend</th>\n",
       "      <th>Impressions</th>\n",
       "      <th>OrganizationName</th>\n",
       "      <th>PayingAdvertiserName</th>\n",
       "      <th>Gender</th>\n",
       "      <th>CountryCode</th>\n",
       "      <th>Duration</th>\n",
       "      <th>age_lower</th>\n",
       "      <th>age_upper</th>\n",
       "    </tr>\n",
       "  </thead>\n",
       "  <tbody>\n",
       "    <tr>\n",
       "      <th>0</th>\n",
       "      <td>343.00</td>\n",
       "      <td>111587</td>\n",
       "      <td>Blueprint Interactive</td>\n",
       "      <td>Planned Parenthood Votes</td>\n",
       "      <td>FEMALE</td>\n",
       "      <td>united states</td>\n",
       "      <td>5 days 05:59:11</td>\n",
       "      <td>1</td>\n",
       "      <td>3</td>\n",
       "    </tr>\n",
       "    <tr>\n",
       "      <th>1</th>\n",
       "      <td>8.00</td>\n",
       "      <td>3924</td>\n",
       "      <td>Research Triangle Student Advocacy</td>\n",
       "      <td>ResTri Student Advocacy</td>\n",
       "      <td>FEMALE</td>\n",
       "      <td>united states</td>\n",
       "      <td>0 days 06:57:48</td>\n",
       "      <td>1</td>\n",
       "      <td>3</td>\n",
       "    </tr>\n",
       "    <tr>\n",
       "      <th>2</th>\n",
       "      <td>6.00</td>\n",
       "      <td>2216</td>\n",
       "      <td>Do Something, Inc.</td>\n",
       "      <td>DoSomething.org</td>\n",
       "      <td>NaN</td>\n",
       "      <td>united states</td>\n",
       "      <td>29 days 14:59:00</td>\n",
       "      <td>1</td>\n",
       "      <td>2</td>\n",
       "    </tr>\n",
       "    <tr>\n",
       "      <th>3</th>\n",
       "      <td>317.20</td>\n",
       "      <td>122810</td>\n",
       "      <td>Luton Borough Council</td>\n",
       "      <td>BSBT</td>\n",
       "      <td>NaN</td>\n",
       "      <td>united kingdom</td>\n",
       "      <td>5 days 23:59:23</td>\n",
       "      <td>null</td>\n",
       "      <td>null</td>\n",
       "    </tr>\n",
       "    <tr>\n",
       "      <th>5</th>\n",
       "      <td>115.00</td>\n",
       "      <td>37149</td>\n",
       "      <td>ACRONYM</td>\n",
       "      <td>Our Lives Our Vote</td>\n",
       "      <td>NaN</td>\n",
       "      <td>united states</td>\n",
       "      <td>0 days 23:59:59</td>\n",
       "      <td>1</td>\n",
       "      <td>2</td>\n",
       "    </tr>\n",
       "    <tr>\n",
       "      <th>...</th>\n",
       "      <td>...</td>\n",
       "      <td>...</td>\n",
       "      <td>...</td>\n",
       "      <td>...</td>\n",
       "      <td>...</td>\n",
       "      <td>...</td>\n",
       "      <td>...</td>\n",
       "      <td>...</td>\n",
       "      <td>...</td>\n",
       "    </tr>\n",
       "    <tr>\n",
       "      <th>4263</th>\n",
       "      <td>72.45</td>\n",
       "      <td>85654</td>\n",
       "      <td>Mouvement Réformateur</td>\n",
       "      <td>MR - Mouvement Réformateur</td>\n",
       "      <td>NaN</td>\n",
       "      <td>belgium</td>\n",
       "      <td>5 days 09:13:02</td>\n",
       "      <td>1</td>\n",
       "      <td>2</td>\n",
       "    </tr>\n",
       "    <tr>\n",
       "      <th>4264</th>\n",
       "      <td>159.00</td>\n",
       "      <td>48710</td>\n",
       "      <td>UnRestrict Minnesota</td>\n",
       "      <td>UnRestrict Minnesota</td>\n",
       "      <td>NaN</td>\n",
       "      <td>united states</td>\n",
       "      <td>103 days 03:16:38</td>\n",
       "      <td>1</td>\n",
       "      <td>null</td>\n",
       "    </tr>\n",
       "    <tr>\n",
       "      <th>4265</th>\n",
       "      <td>1618.00</td>\n",
       "      <td>275746</td>\n",
       "      <td>Hiebing</td>\n",
       "      <td>Doctors Without Borders</td>\n",
       "      <td>NaN</td>\n",
       "      <td>united states</td>\n",
       "      <td>20 days 05:59:51</td>\n",
       "      <td>3</td>\n",
       "      <td>null</td>\n",
       "    </tr>\n",
       "    <tr>\n",
       "      <th>4266</th>\n",
       "      <td>284.00</td>\n",
       "      <td>77720</td>\n",
       "      <td>Blueprint Interactive</td>\n",
       "      <td>ACT NOW ON CLIMATE</td>\n",
       "      <td>NaN</td>\n",
       "      <td>united states</td>\n",
       "      <td>27 days 02:32:00</td>\n",
       "      <td>1</td>\n",
       "      <td>null</td>\n",
       "    </tr>\n",
       "    <tr>\n",
       "      <th>4267</th>\n",
       "      <td>199.00</td>\n",
       "      <td>154569</td>\n",
       "      <td>Planned Parenthood of Southern New England</td>\n",
       "      <td>Planned Parenthood</td>\n",
       "      <td>NaN</td>\n",
       "      <td>united states</td>\n",
       "      <td>9 days 00:00:00</td>\n",
       "      <td>null</td>\n",
       "      <td>null</td>\n",
       "    </tr>\n",
       "  </tbody>\n",
       "</table>\n",
       "<p>3746 rows × 9 columns</p>\n",
       "</div>"
      ],
      "text/plain": [
       "        Spend  Impressions                            OrganizationName  \\\n",
       "0      343.00       111587                       Blueprint Interactive   \n",
       "1        8.00         3924          Research Triangle Student Advocacy   \n",
       "2        6.00         2216                          Do Something, Inc.   \n",
       "3      317.20       122810                       Luton Borough Council   \n",
       "5      115.00        37149                                     ACRONYM   \n",
       "...       ...          ...                                         ...   \n",
       "4263    72.45        85654                       Mouvement Réformateur   \n",
       "4264   159.00        48710                        UnRestrict Minnesota   \n",
       "4265  1618.00       275746                                    Hiebing    \n",
       "4266   284.00        77720                       Blueprint Interactive   \n",
       "4267   199.00       154569  Planned Parenthood of Southern New England   \n",
       "\n",
       "            PayingAdvertiserName  Gender     CountryCode          Duration  \\\n",
       "0       Planned Parenthood Votes  FEMALE   united states   5 days 05:59:11   \n",
       "1        ResTri Student Advocacy  FEMALE   united states   0 days 06:57:48   \n",
       "2                DoSomething.org     NaN   united states  29 days 14:59:00   \n",
       "3                           BSBT     NaN  united kingdom   5 days 23:59:23   \n",
       "5             Our Lives Our Vote     NaN   united states   0 days 23:59:59   \n",
       "...                          ...     ...             ...               ...   \n",
       "4263  MR - Mouvement Réformateur     NaN         belgium   5 days 09:13:02   \n",
       "4264        UnRestrict Minnesota     NaN   united states 103 days 03:16:38   \n",
       "4265     Doctors Without Borders     NaN   united states  20 days 05:59:51   \n",
       "4266          ACT NOW ON CLIMATE     NaN   united states  27 days 02:32:00   \n",
       "4267          Planned Parenthood     NaN   united states   9 days 00:00:00   \n",
       "\n",
       "     age_lower age_upper  \n",
       "0            1         3  \n",
       "1            1         3  \n",
       "2            1         2  \n",
       "3         null      null  \n",
       "5            1         2  \n",
       "...        ...       ...  \n",
       "4263         1         2  \n",
       "4264         1      null  \n",
       "4265         3      null  \n",
       "4266         1      null  \n",
       "4267      null      null  \n",
       "\n",
       "[3746 rows x 9 columns]"
      ]
     },
     "execution_count": 132,
     "metadata": {},
     "output_type": "execute_result"
    }
   ],
   "source": [
    "spa = spa[spa.Spend < spend_upper]\n",
    "spa"
   ]
  },
  {
   "cell_type": "code",
   "execution_count": 133,
   "metadata": {},
   "outputs": [],
   "source": [
    "def final_model_linearReg():\n",
    "\n",
    "    X = spa.drop('Impressions', axis=1)\n",
    "    y = spa.Impressions\n",
    "    X_tr, X_ts, y_tr, y_ts = train_test_split(X, y, test_size=0.25)\n",
    "    preproc = ColumnTransformer(transformers=[\n",
    "            ('Spend', FunctionTransformer(lambda x:x), ['Spend']),\n",
    "            ('Oga_name', FunctionTransformer(organizationname_func), ['OrganizationName']),\n",
    "            ('Paying', FunctionTransformer(payingad_func), ['PayingAdvertiserName']),\n",
    "            ('gendering', FunctionTransformer(gender_func), ['Gender']),\n",
    "            ('hot country', OneHotEncoder(handle_unknown='ignore'), ['CountryCode']),\n",
    "            ('age lower', OneHotEncoder(), ['age_lower']),\n",
    "            ('age upper', OneHotEncoder(), ['age_upper']),\n",
    "            ])\n",
    "    pl = Pipeline(steps=[('preprocessor', preproc), \n",
    "                         ('regressor', LinearRegression())])\n",
    "    pl.fit(X_tr, y_tr)\n",
    "    return pl.score(X_ts, y_ts)\n"
   ]
  },
  {
   "cell_type": "code",
   "execution_count": 134,
   "metadata": {},
   "outputs": [
    {
     "data": {
      "text/plain": [
       "0    0.456804\n",
       "1    0.482120\n",
       "2    0.440434\n",
       "3    0.426125\n",
       "4    0.448143\n",
       "5    0.454366\n",
       "6    0.407616\n",
       "7    0.385779\n",
       "8    0.453300\n",
       "9    0.479921\n",
       "dtype: float64"
      ]
     },
     "execution_count": 134,
     "metadata": {},
     "output_type": "execute_result"
    }
   ],
   "source": [
    "linearReg_result = pd.Series(range(10)).apply(lambda x: final_model_linearReg())\n",
    "linearReg_result"
   ]
  },
  {
   "cell_type": "markdown",
   "metadata": {},
   "source": [
    "Now the value looks much better! We do not get as much negative values"
   ]
  },
  {
   "cell_type": "code",
   "execution_count": 135,
   "metadata": {},
   "outputs": [
    {
     "data": {
      "text/plain": [
       "0.44346082947132925"
      ]
     },
     "execution_count": 135,
     "metadata": {},
     "output_type": "execute_result"
    }
   ],
   "source": [
    "linearReg_result.mean()"
   ]
  },
  {
   "cell_type": "markdown",
   "metadata": {},
   "source": [
    "We probabily do not need that many features, we will remove organization name and paying advertisement"
   ]
  },
  {
   "cell_type": "code",
   "execution_count": 136,
   "metadata": {},
   "outputs": [],
   "source": [
    "def final_model_improved():\n",
    "\n",
    "    X = spa.drop('Impressions', axis=1)\n",
    "    y = spa.Impressions\n",
    "    X_tr, X_ts, y_tr, y_ts = train_test_split(X, y, test_size=0.25)\n",
    "    preproc = ColumnTransformer(transformers=[\n",
    "            ('Spend', FunctionTransformer(lambda x:x), ['Spend']),\n",
    "            ('gendering', FunctionTransformer(gender_func), ['Gender']),\n",
    "            ('hot country', OneHotEncoder(handle_unknown='ignore'), ['CountryCode']),\n",
    "            ('age lower', OneHotEncoder(), ['age_lower']),\n",
    "            ('age upper', OneHotEncoder(), ['age_upper']),\n",
    "            ])\n",
    "    pl = Pipeline(steps=[('preprocessor', preproc), \n",
    "                         ('regressor', LinearRegression())])\n",
    "    pl.fit(X_tr, y_tr)\n",
    "    return pl.score(X_ts, y_ts)\n"
   ]
  },
  {
   "cell_type": "code",
   "execution_count": 137,
   "metadata": {},
   "outputs": [
    {
     "data": {
      "text/plain": [
       "0     0.568275\n",
       "1     0.575306\n",
       "2     0.596437\n",
       "3     0.623627\n",
       "4     0.531792\n",
       "        ...   \n",
       "95    0.581302\n",
       "96    0.557131\n",
       "97    0.553630\n",
       "98    0.600419\n",
       "99    0.565667\n",
       "Length: 100, dtype: float64"
      ]
     },
     "execution_count": 137,
     "metadata": {},
     "output_type": "execute_result"
    }
   ],
   "source": [
    "linearReg_result = pd.Series(range(100)).apply(lambda x: final_model_improved())\n",
    "linearReg_result"
   ]
  },
  {
   "cell_type": "code",
   "execution_count": 138,
   "metadata": {},
   "outputs": [
    {
     "data": {
      "text/plain": [
       "0.579919058188141"
      ]
     },
     "execution_count": 138,
     "metadata": {},
     "output_type": "execute_result"
    }
   ],
   "source": [
    "linearReg_result.mean()"
   ]
  },
  {
   "cell_type": "markdown",
   "metadata": {},
   "source": [
    "Much Better!"
   ]
  },
  {
   "cell_type": "markdown",
   "metadata": {},
   "source": [
    "We have get rid of many outliers, and we did not use some of the features we created. Let's think if there is something else missing.\n",
    "Let us explore the Duration column, that we have not use that much"
   ]
  },
  {
   "cell_type": "code",
   "execution_count": 139,
   "metadata": {},
   "outputs": [
    {
     "data": {
      "text/plain": [
       "<matplotlib.collections.PathCollection at 0x7f467dfd62b0>"
      ]
     },
     "execution_count": 139,
     "metadata": {},
     "output_type": "execute_result"
    },
    {
     "data": {
      "image/png": "[encoded data removed]",
      "text/plain": [
       "<Figure size 432x288 with 1 Axes>"
      ]
     },
     "metadata": {
      "image/png": {
       "height": 260,
       "width": 400
      },
      "needs_background": "light"
     },
     "output_type": "display_data"
    }
   ],
   "source": [
    "xx = spa.Duration.apply(lambda x: x.total_seconds())\n",
    "yy = spa.Impressions\n",
    "plt.scatter(xx, yy)"
   ]
  },
  {
   "cell_type": "code",
   "execution_count": 140,
   "metadata": {},
   "outputs": [],
   "source": [
    "def helper(x):\n",
    "    if x < 0: return 0\n",
    "    return x\n",
    "spa['Duration'] = spa.Duration.apply(lambda x: x.total_seconds()).apply(helper)"
   ]
  },
  {
   "cell_type": "code",
   "execution_count": 141,
   "metadata": {},
   "outputs": [
    {
     "data": {
      "text/plain": [
       "('Number of unique values: 1170', 8921002.0    71\n",
       " 9081498.0    66\n",
       " 8910998.0    64\n",
       " 2530393.0    56\n",
       " 8035199.0    49\n",
       "              ..\n",
       " 362848.0      1\n",
       " 517778.0      1\n",
       " 1666599.0     1\n",
       " 777512.0      1\n",
       " 2465837.0     1\n",
       " Name: Duration, Length: 1170, dtype: int64)"
      ]
     },
     "execution_count": 141,
     "metadata": {},
     "output_type": "execute_result"
    }
   ],
   "source": [
    "explore('Duration')"
   ]
  },
  {
   "cell_type": "code",
   "execution_count": 142,
   "metadata": {},
   "outputs": [],
   "source": [
    "spa['Duration'] = StandardScaler().fit_transform(spa[['Duration']])"
   ]
  },
  {
   "cell_type": "code",
   "execution_count": 143,
   "metadata": {},
   "outputs": [
    {
     "data": {
      "text/plain": [
       "0"
      ]
     },
     "execution_count": 143,
     "metadata": {},
     "output_type": "execute_result"
    }
   ],
   "source": [
    "spa.Duration.isnull().sum()"
   ]
  },
  {
   "cell_type": "code",
   "execution_count": 144,
   "metadata": {},
   "outputs": [
    {
     "data": {
      "text/plain": [
       "<matplotlib.collections.PathCollection at 0x7f467e43d630>"
      ]
     },
     "execution_count": 144,
     "metadata": {},
     "output_type": "execute_result"
    },
    {
     "data": {
      "image/png": "[encoded data removed]",
      "text/plain": [
       "<Figure size 432x288 with 1 Axes>"
      ]
     },
     "metadata": {
      "image/png": {
       "height": 248,
       "width": 400
      },
      "needs_background": "light"
     },
     "output_type": "display_data"
    }
   ],
   "source": [
    "xx = spa.Duration\n",
    "yy = spa.Impressions\n",
    "plt.scatter(xx, yy)"
   ]
  },
  {
   "cell_type": "markdown",
   "metadata": {},
   "source": [
    "Comparing linear regression vs RandomForestRegressor, we realize the random forest regressor have generally better score"
   ]
  },
  {
   "cell_type": "code",
   "execution_count": 145,
   "metadata": {},
   "outputs": [],
   "source": [
    "def final(k):\n",
    "    X = spa.drop('Impressions', axis=1)\n",
    "    y = spa.Impressions\n",
    "    X_tr, X_ts, y_tr, y_ts = train_test_split(X, y, test_size=0.25)\n",
    "    preproc = ColumnTransformer(transformers=[\n",
    "            ('Spend', StandardScaler(), ['Spend']),\n",
    "            ('hot country', OneHotEncoder(handle_unknown='ignore'), ['CountryCode']),\n",
    "            ('age lower', OneHotEncoder(), ['age_lower']),\n",
    "            ('age upper', OneHotEncoder(), ['age_upper']),\n",
    "            ('Duration', FunctionTransformer(lambda x:x), ['Duration'])\n",
    "            ])\n",
    "    pl = Pipeline(steps=[('preprocessor', preproc), \n",
    "                         ('regressor', RandomForestRegressor(max_depth = k))])\n",
    "    pl.fit(X_tr, y_tr)\n",
    "    return pl.score(X_ts, y_ts)"
   ]
  },
  {
   "cell_type": "code",
   "execution_count": 146,
   "metadata": {},
   "outputs": [
    {
     "data": {
      "text/plain": [
       "0.677585746399632"
      ]
     },
     "execution_count": 146,
     "metadata": {},
     "output_type": "execute_result"
    }
   ],
   "source": [
    "final(100)"
   ]
  },
  {
   "cell_type": "markdown",
   "metadata": {},
   "source": [
    "# determine paramters"
   ]
  },
  {
   "cell_type": "markdown",
   "metadata": {},
   "source": [
    "commented because it takes long to run"
   ]
  },
  {
   "cell_type": "code",
   "execution_count": 147,
   "metadata": {},
   "outputs": [],
   "source": [
    "trials = [2, 10, 15, 18, 20, 25, 30, 40]\n",
    "rt = []\n",
    "for i in trials:\n",
    "    for _ in range(10):\n",
    "        results = []\n",
    "        results.append(final(i))\n",
    "    rt.append(results)"
   ]
  },
  {
   "cell_type": "code",
   "execution_count": 148,
   "metadata": {},
   "outputs": [
    {
     "data": {
      "text/html": [
       "<div>\n",
       "<style scoped>\n",
       "    .dataframe tbody tr th:only-of-type {\n",
       "        vertical-align: middle;\n",
       "    }\n",
       "\n",
       "    .dataframe tbody tr th {\n",
       "        vertical-align: top;\n",
       "    }\n",
       "\n",
       "    .dataframe thead th {\n",
       "        text-align: right;\n",
       "    }\n",
       "</style>\n",
       "<table border=\"1\" class=\"dataframe\">\n",
       "  <thead>\n",
       "    <tr style=\"text-align: right;\">\n",
       "      <th></th>\n",
       "      <th>0</th>\n",
       "    </tr>\n",
       "  </thead>\n",
       "  <tbody>\n",
       "    <tr>\n",
       "      <th>2</th>\n",
       "      <td>0.530987</td>\n",
       "    </tr>\n",
       "    <tr>\n",
       "      <th>10</th>\n",
       "      <td>0.666540</td>\n",
       "    </tr>\n",
       "    <tr>\n",
       "      <th>15</th>\n",
       "      <td>0.711997</td>\n",
       "    </tr>\n",
       "    <tr>\n",
       "      <th>18</th>\n",
       "      <td>0.649269</td>\n",
       "    </tr>\n",
       "    <tr>\n",
       "      <th>20</th>\n",
       "      <td>0.626239</td>\n",
       "    </tr>\n",
       "    <tr>\n",
       "      <th>25</th>\n",
       "      <td>0.726376</td>\n",
       "    </tr>\n",
       "    <tr>\n",
       "      <th>30</th>\n",
       "      <td>0.649517</td>\n",
       "    </tr>\n",
       "    <tr>\n",
       "      <th>40</th>\n",
       "      <td>0.645567</td>\n",
       "    </tr>\n",
       "  </tbody>\n",
       "</table>\n",
       "</div>"
      ],
      "text/plain": [
       "           0\n",
       "2   0.530987\n",
       "10  0.666540\n",
       "15  0.711997\n",
       "18  0.649269\n",
       "20  0.626239\n",
       "25  0.726376\n",
       "30  0.649517\n",
       "40  0.645567"
      ]
     },
     "execution_count": 148,
     "metadata": {},
     "output_type": "execute_result"
    }
   ],
   "source": [
    "pd.DataFrame(rt, index=trials)"
   ]
  },
  {
   "cell_type": "code",
   "execution_count": 1013,
   "metadata": {},
   "outputs": [],
   "source": [
    "# How many combinations are there to search through?\n",
    "\n",
    "parameters = {\n",
    "    'max_depth': [2,10,15,20,30,50,None], \n",
    "#     'min_samples_split':[2,7,10,15,20],\n",
    "#     'min_samples_leaf':[2,7,10,15,20]\n",
    "}"
   ]
  },
  {
   "cell_type": "code",
   "execution_count": 1014,
   "metadata": {},
   "outputs": [
    {
     "data": {
      "text/plain": [
       "GridSearchCV(cv=5, error_score=nan,\n",
       "             estimator=RandomForestRegressor(bootstrap=True, ccp_alpha=0.0,\n",
       "                                             criterion='mse', max_depth=None,\n",
       "                                             max_features='auto',\n",
       "                                             max_leaf_nodes=None,\n",
       "                                             max_samples=None,\n",
       "                                             min_impurity_decrease=0.0,\n",
       "                                             min_impurity_split=None,\n",
       "                                             min_samples_leaf=1,\n",
       "                                             min_samples_split=2,\n",
       "                                             min_weight_fraction_leaf=0.0,\n",
       "                                             n_estimators=100, n_jobs=None,\n",
       "                                             oob_score=False, random_state=None,\n",
       "                                             verbose=0, warm_start=False),\n",
       "             iid='deprecated', n_jobs=None,\n",
       "             param_grid={'max_depth': [2, 10, 15, 20, 30, 50, None]},\n",
       "             pre_dispatch='2*n_jobs', refit=True, return_train_score=False,\n",
       "             scoring=None, verbose=0)"
      ]
     },
     "execution_count": 1014,
     "metadata": {},
     "output_type": "execute_result"
    }
   ],
   "source": [
    "clf = GridSearchCV(RandomForestRegressor(), parameters, cv = 5)\n",
    "X = spa.drop('Impressions', axis=1)\n",
    "y = spa.Impressions\n",
    "X_tr, X_ts, y_tr, y_ts = train_test_split(X, y, test_size=0.25)\n",
    "clf.fit(preproc.fit(X_tr).transform(X_tr), y_tr)"
   ]
  },
  {
   "cell_type": "markdown",
   "metadata": {},
   "source": [
    " "
   ]
  },
  {
   "cell_type": "code",
   "execution_count": 1015,
   "metadata": {},
   "outputs": [
    {
     "data": {
      "text/plain": [
       "{'max_depth': 30}"
      ]
     },
     "execution_count": 1015,
     "metadata": {},
     "output_type": "execute_result"
    }
   ],
   "source": [
    "clf.best_params_"
   ]
  },
  {
   "cell_type": "code",
   "execution_count": 1016,
   "metadata": {},
   "outputs": [],
   "source": [
    "# How many combinations are there to search through?\n",
    "\n",
    "parameters = {\n",
    "    'min_samples_split':[2,3,5,7,10,15,20],\n",
    "}"
   ]
  },
  {
   "cell_type": "code",
   "execution_count": 1017,
   "metadata": {},
   "outputs": [
    {
     "data": {
      "text/plain": [
       "GridSearchCV(cv=5, error_score=nan,\n",
       "             estimator=RandomForestRegressor(bootstrap=True, ccp_alpha=0.0,\n",
       "                                             criterion='mse', max_depth=None,\n",
       "                                             max_features='auto',\n",
       "                                             max_leaf_nodes=None,\n",
       "                                             max_samples=None,\n",
       "                                             min_impurity_decrease=0.0,\n",
       "                                             min_impurity_split=None,\n",
       "                                             min_samples_leaf=1,\n",
       "                                             min_samples_split=2,\n",
       "                                             min_weight_fraction_leaf=0.0,\n",
       "                                             n_estimators=100, n_jobs=None,\n",
       "                                             oob_score=False, random_state=None,\n",
       "                                             verbose=0, warm_start=False),\n",
       "             iid='deprecated', n_jobs=None,\n",
       "             param_grid={'min_samples_split': [2, 3, 5, 7, 10, 15, 20]},\n",
       "             pre_dispatch='2*n_jobs', refit=True, return_train_score=False,\n",
       "             scoring=None, verbose=0)"
      ]
     },
     "execution_count": 1017,
     "metadata": {},
     "output_type": "execute_result"
    }
   ],
   "source": [
    "clf = GridSearchCV(RandomForestRegressor(), parameters, cv = 5)\n",
    "X = spa.drop('Impressions', axis=1)\n",
    "y = spa.Impressions\n",
    "X_tr, X_ts, y_tr, y_ts = train_test_split(X, y, test_size=0.25)\n",
    "clf.fit(preproc.fit(X_tr).transform(X_tr), y_tr)"
   ]
  },
  {
   "cell_type": "code",
   "execution_count": 1018,
   "metadata": {},
   "outputs": [
    {
     "data": {
      "text/plain": [
       "{'min_samples_split': 15}"
      ]
     },
     "execution_count": 1018,
     "metadata": {},
     "output_type": "execute_result"
    }
   ],
   "source": [
    "clf.best_params_ "
   ]
  },
  {
   "cell_type": "code",
   "execution_count": 1019,
   "metadata": {},
   "outputs": [],
   "source": [
    "parameters = {\n",
    "    'min_samples_leaf':[2,3,5,7,10,15,20]\n",
    "}"
   ]
  },
  {
   "cell_type": "code",
   "execution_count": 1020,
   "metadata": {},
   "outputs": [
    {
     "data": {
      "text/plain": [
       "GridSearchCV(cv=5, error_score=nan,\n",
       "             estimator=RandomForestRegressor(bootstrap=True, ccp_alpha=0.0,\n",
       "                                             criterion='mse', max_depth=None,\n",
       "                                             max_features='auto',\n",
       "                                             max_leaf_nodes=None,\n",
       "                                             max_samples=None,\n",
       "                                             min_impurity_decrease=0.0,\n",
       "                                             min_impurity_split=None,\n",
       "                                             min_samples_leaf=1,\n",
       "                                             min_samples_split=2,\n",
       "                                             min_weight_fraction_leaf=0.0,\n",
       "                                             n_estimators=100, n_jobs=None,\n",
       "                                             oob_score=False, random_state=None,\n",
       "                                             verbose=0, warm_start=False),\n",
       "             iid='deprecated', n_jobs=None,\n",
       "             param_grid={'min_samples_leaf': [2, 3, 5, 7, 10, 15, 20]},\n",
       "             pre_dispatch='2*n_jobs', refit=True, return_train_score=False,\n",
       "             scoring=None, verbose=0)"
      ]
     },
     "execution_count": 1020,
     "metadata": {},
     "output_type": "execute_result"
    }
   ],
   "source": [
    "clf = GridSearchCV(RandomForestRegressor(), parameters, cv = 5)\n",
    "X = spa.drop('Impressions', axis=1)\n",
    "y = spa.Impressions\n",
    "X_tr, X_ts, y_tr, y_ts = train_test_split(X, y, test_size=0.25)\n",
    "clf.fit(preproc.fit(X_tr).transform(X_tr), y_tr)"
   ]
  },
  {
   "cell_type": "code",
   "execution_count": 1021,
   "metadata": {},
   "outputs": [
    {
     "data": {
      "text/plain": [
       "{'min_samples_leaf': 2}"
      ]
     },
     "execution_count": 1021,
     "metadata": {},
     "output_type": "execute_result"
    }
   ],
   "source": [
    "clf.best_params_ "
   ]
  },
  {
   "cell_type": "code",
   "execution_count": 1037,
   "metadata": {},
   "outputs": [],
   "source": [
    "def final():\n",
    "    X = spa.drop('Impressions', axis=1)\n",
    "    y = spa.Impressions\n",
    "    X_tr, X_ts, y_tr, y_ts = train_test_split(X, y, test_size=0.25)\n",
    "    preproc = ColumnTransformer(transformers=[\n",
    "            ('Spend', StandardScaler(), ['Spend']),\n",
    "            ('hot country', OneHotEncoder(handle_unknown='ignore'), ['CountryCode']),\n",
    "            ('age lower', OneHotEncoder(), ['age_lower']),\n",
    "            ('age upper', OneHotEncoder(), ['age_upper']),\n",
    "            ('Duration', FunctionTransformer(lambda x:x), ['Duration'])\n",
    "            ])\n",
    "    pl = Pipeline(steps=[('preprocessor', preproc), \n",
    "                         ('regressor', RandomForestRegressor(max_depth = 30, min_samples_split=15, min_samples_leaf=2))])\n",
    "    pl.fit(X_tr, y_tr)\n",
    "    return pl.score(X_ts, y_ts)"
   ]
  },
  {
   "cell_type": "code",
   "execution_count": 1051,
   "metadata": {},
   "outputs": [
    {
     "data": {
      "text/plain": [
       "0.7050430081510073"
      ]
     },
     "execution_count": 1051,
     "metadata": {},
     "output_type": "execute_result"
    }
   ],
   "source": [
    "final()"
   ]
  },
  {
   "cell_type": "markdown",
   "metadata": {},
   "source": [
    "## Fairness Evaluation"
   ]
  },
  {
   "cell_type": "markdown",
   "metadata": {},
   "source": [
    "Adding the paramater spa dataframe in order to use this model to predict different subset of the spa dataset."
   ]
  },
  {
   "cell_type": "code",
   "execution_count": 149,
   "metadata": {},
   "outputs": [],
   "source": [
    "def final(spa):\n",
    "    X = spa.drop('Impressions', axis=1)\n",
    "    y = spa.Impressions\n",
    "    preproc = ColumnTransformer(transformers=[\n",
    "            ('Spend', StandardScaler(), ['Spend']),\n",
    "            ('hot country', OneHotEncoder(handle_unknown='ignore'), ['CountryCode']),\n",
    "            ('age lower', OneHotEncoder(), ['age_lower']),\n",
    "            ('age upper', OneHotEncoder(), ['age_upper']),\n",
    "            ('Duration', FunctionTransformer(lambda x:x), ['Duration'])\n",
    "            ])\n",
    "    pl = Pipeline(steps=[('preprocessor', preproc), \n",
    "                         ('regressor', RandomForestClassifier(max_depth = 30, min_samples_split=15, min_samples_leaf=2))])\n",
    "    pl.fit(X, y)\n",
    "    return pl.score(X, y)"
   ]
  },
  {
   "cell_type": "code",
   "execution_count": 151,
   "metadata": {},
   "outputs": [
    {
     "data": {
      "text/plain": [
       "0.7026161238654565"
      ]
     },
     "execution_count": 151,
     "metadata": {},
     "output_type": "execute_result"
    }
   ],
   "source": [
    "final(spa)"
   ]
  },
  {
   "cell_type": "code",
   "execution_count": 67,
   "metadata": {},
   "outputs": [
    {
     "data": {
      "text/plain": [
       "<matplotlib.axes._subplots.AxesSubplot at 0x7f80ee975ac8>"
      ]
     },
     "execution_count": 67,
     "metadata": {},
     "output_type": "execute_result"
    },
    {
     "data": {
      "image/png": "[encoded data removed]",
      "text/plain": [
       "<Figure size 432x288 with 1 Axes>"
      ]
     },
     "metadata": {
      "image/png": {
       "height": 249,
       "width": 381
      },
      "needs_background": "light"
     },
     "output_type": "display_data"
    }
   ],
   "source": [
    "spa.Impressions.hist()"
   ]
  },
  {
   "cell_type": "code",
   "execution_count": 79,
   "metadata": {},
   "outputs": [
    {
     "data": {
      "image/png": "[encoded data removed]",
      "text/plain": [
       "<Figure size 432x288 with 1 Axes>"
      ]
     },
     "metadata": {
      "image/png": {
       "height": 265,
       "width": 425
      },
      "needs_background": "light"
     },
     "output_type": "display_data"
    }
   ],
   "source": [
    "spa.plot(kind='scatter', x='Spend', y='Impressions', xlim=[0, 2012.12499999999] , ylim=[0, 1000000]);"
   ]
  },
  {
   "cell_type": "code",
   "execution_count": 69,
   "metadata": {},
   "outputs": [
    {
     "data": {
      "text/plain": [
       "<matplotlib.axes._subplots.AxesSubplot at 0x7f80ee4f0cf8>"
      ]
     },
     "execution_count": 69,
     "metadata": {},
     "output_type": "execute_result"
    },
    {
     "data": {
      "image/png": "[encoded data removed]",
      "text/plain": [
       "<Figure size 432x288 with 1 Axes>"
      ]
     },
     "metadata": {
      "image/png": {
       "height": 249,
       "width": 381
      },
      "needs_background": "light"
     },
     "output_type": "display_data"
    }
   ],
   "source": [
    "spa.Impressions.hist()"
   ]
  },
  {
   "cell_type": "code",
   "execution_count": 81,
   "metadata": {},
   "outputs": [
    {
     "data": {
      "text/plain": [
       "2256"
      ]
     },
     "execution_count": 81,
     "metadata": {},
     "output_type": "execute_result"
    }
   ],
   "source": [
    "(spa.Spend <= 250).sum()"
   ]
  },
  {
   "cell_type": "markdown",
   "metadata": {},
   "source": [
    "Since we kind of see a fan shape on the scatter plot of spend against impressions, we assume that there is a lot of deviations from the predicted value for advertisement that spend a lot. Maybe the model is biased."
   ]
  },
  {
   "cell_type": "code",
   "execution_count": 82,
   "metadata": {},
   "outputs": [],
   "source": [
    "spa_cheap = spa[spa.Spend <= 250]\n",
    "spa_expen = spa[spa.Spend > 250]"
   ]
  },
  {
   "cell_type": "code",
   "execution_count": 83,
   "metadata": {},
   "outputs": [
    {
     "data": {
      "text/plain": [
       "0.7305999901591002"
      ]
     },
     "execution_count": 83,
     "metadata": {},
     "output_type": "execute_result"
    }
   ],
   "source": [
    "cheap_prediction = final(spa_cheap)\n",
    "cheap_prediction"
   ]
  },
  {
   "cell_type": "code",
   "execution_count": 84,
   "metadata": {},
   "outputs": [
    {
     "data": {
      "text/plain": [
       "0.7033134313975965"
      ]
     },
     "execution_count": 84,
     "metadata": {},
     "output_type": "execute_result"
    }
   ],
   "source": [
    "expen_prediction = final(spa_expen)\n",
    "expen_prediction"
   ]
  },
  {
   "cell_type": "markdown",
   "metadata": {},
   "source": [
    "The prediction for the cheaper ads are higher than the prediction than the expensive ads in our observed statistics, and that's exactly what we expected. Now we do permutation test to see if this happened just by chance or this shows a statisicaly difference in the two populations.\n",
    "\n",
    "We will do more permutation test on impressions later, but this is just the first test we do on spend. \n",
    "\n",
    "Null hypothesis: population of ads that spend less, and population of ads that spend more, have same prediction score on impression. \n",
    "\n",
    "Alternative hypothesis: population of ads that spend less, have better prediction score on impression than the population of ads that spend more\n",
    "\n",
    "Set significance level to be 0.05"
   ]
  },
  {
   "cell_type": "code",
   "execution_count": 85,
   "metadata": {},
   "outputs": [
    {
     "data": {
      "text/plain": [
       "0.027286558761503654"
      ]
     },
     "execution_count": 85,
     "metadata": {},
     "output_type": "execute_result"
    }
   ],
   "source": [
    "obs = abs(cheap_prediction - expen_prediction)\n",
    "obs"
   ]
  },
  {
   "cell_type": "markdown",
   "metadata": {},
   "source": [
    "The observed value, around 0.03 in accuracy, is the difference between our prediction of the \"cheap half\" of the advertisement, the ads that spend less, and the \"more expensive half\" of the advertisements, the ads that spend more. "
   ]
  },
  {
   "cell_type": "code",
   "execution_count": 91,
   "metadata": {},
   "outputs": [],
   "source": [
    "perms = []\n",
    "for _ in range(100):\n",
    "    df = spa.copy()\n",
    "    df = df.assign(spend_shuffle = df.Spend.sample(frac=1.0, replace=False).reset_index(drop = True))\n",
    "    df_cheap = df[df.spend_shuffle <= 250]\n",
    "    df_expen = df[df.spend_shuffle > 250]\n",
    "    perms.append(abs(final(df_cheap) - final(df_expen)))"
   ]
  },
  {
   "cell_type": "code",
   "execution_count": 92,
   "metadata": {
    "scrolled": true
   },
   "outputs": [
    {
     "data": {
      "text/plain": [
       "[0.05765002777501094,\n",
       " 0.03136237867022573,\n",
       " 0.02917604571255472,\n",
       " 0.025190446449768755,\n",
       " 0.031155962620979083,\n",
       " 0.003894742343454438,\n",
       " 0.014524834811816767,\n",
       " 0.022778901118466366,\n",
       " 0.026987104509598292,\n",
       " 0.02362302752710632,\n",
       " 0.0026632327391001853,\n",
       " 0.027544329834291337,\n",
       " 0.06382095341537575,\n",
       " 0.0076132571173450625,\n",
       " 0.005421334496460539,\n",
       " 0.014489714565622647,\n",
       " 0.006611030953662667,\n",
       " 0.04599545025632479,\n",
       " 0.0017192491721719216,\n",
       " 0.03146152699753413,\n",
       " 0.015147562070642162,\n",
       " 0.06988857389888081,\n",
       " 0.01033193701016033,\n",
       " 0.009890256674663922,\n",
       " 0.04559491383105252,\n",
       " 0.06784793067901274,\n",
       " 0.057624282407865546,\n",
       " 0.0370995496002674,\n",
       " 0.002838796165806179,\n",
       " 0.03074478171477002,\n",
       " 0.024532847847408945,\n",
       " 0.06284170529241195,\n",
       " 0.011364507067422758,\n",
       " 0.007225290269958662,\n",
       " 0.02843079741223653,\n",
       " 0.010690462559725833,\n",
       " 0.017264205416707812,\n",
       " 0.012023839760613608,\n",
       " 0.013701630188871494,\n",
       " 0.07177552193473724,\n",
       " 0.03989648760827558,\n",
       " 0.02440857595561574,\n",
       " 0.035003641284728104,\n",
       " 0.0027325982493988654,\n",
       " 0.014708206076683772,\n",
       " 0.03295597195557243,\n",
       " 0.0021919001123547055,\n",
       " 0.016411977257385857,\n",
       " 0.023797688286390173,\n",
       " 0.02740150886934878,\n",
       " 0.037908310060256856,\n",
       " 0.02261189371256378,\n",
       " 0.0528119930004084,\n",
       " 0.017203535289722405,\n",
       " 0.019572831643925648,\n",
       " 0.03131277917381259,\n",
       " 0.03624376979554855,\n",
       " 0.0702780344452244,\n",
       " 0.007942356640307624,\n",
       " 0.06487977153754954,\n",
       " 0.03366435147355984,\n",
       " 0.0014009604926334962,\n",
       " 0.013928006544911886,\n",
       " 0.01295507924411654,\n",
       " 0.04089018608206052,\n",
       " 0.03140655801247638,\n",
       " 0.02197615154502952,\n",
       " 0.05466597465821588,\n",
       " 0.003992069336575588,\n",
       " 0.022748970767540677,\n",
       " 0.003430345046286809,\n",
       " 0.00841948133591075,\n",
       " 0.00510484339388706,\n",
       " 0.04203907512887639,\n",
       " 0.04349519526517287,\n",
       " 0.08025852777203413,\n",
       " 0.029222475849017826,\n",
       " 0.06895209742241282,\n",
       " 0.00470183591078277,\n",
       " 0.025266064991676607,\n",
       " 0.07724680731905942,\n",
       " 0.011573896214756685,\n",
       " 0.028396982113331304,\n",
       " 0.016825636875505423,\n",
       " 0.03899968442936885,\n",
       " 0.02680823697257584,\n",
       " 0.023636181366754494,\n",
       " 0.033253654465074445,\n",
       " 0.01615881296402588,\n",
       " 0.06359806951883595,\n",
       " 0.008273198996535114,\n",
       " 0.012806984890066597,\n",
       " 0.009666132661864557,\n",
       " 0.03033190092687943,\n",
       " 0.027393448856510294,\n",
       " 0.013655105410739221,\n",
       " 0.002120486934897192,\n",
       " 0.03357203377977003,\n",
       " 0.00650476264762434,\n",
       " 0.06170220481913069]"
      ]
     },
     "execution_count": 92,
     "metadata": {},
     "output_type": "execute_result"
    }
   ],
   "source": [
    "perms"
   ]
  },
  {
   "cell_type": "code",
   "execution_count": 93,
   "metadata": {},
   "outputs": [
    {
     "name": "stdout",
     "output_type": "stream",
     "text": [
      "0.55\n"
     ]
    },
    {
     "data": {
      "image/png": "[encoded data removed]",
      "text/plain": [
       "<Figure size 432x288 with 1 Axes>"
      ]
     },
     "metadata": {
      "image/png": {
       "height": 263,
       "width": 549
      },
      "needs_background": "light"
     },
     "output_type": "display_data"
    }
   ],
   "source": [
    "print(pd.Series(perms <= obs).mean())\n",
    "pd.Series(perms).plot(kind='hist', title='Permutation Test for Impressions accuracy score across ads with lower/higher spendings')\n",
    "plt.scatter(obs, 0, c='r');"
   ]
  },
  {
   "cell_type": "markdown",
   "metadata": {},
   "source": [
    "the P value is 0.55. We don't reject the null, it seems that the prediction is fair for both cheap and expensive ads population."
   ]
  },
  {
   "cell_type": "markdown",
   "metadata": {},
   "source": [
    "## more permutation test on different bins of y (predicted impression)"
   ]
  },
  {
   "cell_type": "markdown",
   "metadata": {},
   "source": [
    "Now we will see that if for different bins/groups of impressions, the prediction is same. We will split the impressions into 5 groups and check the metric accuracy score. \n",
    "\n",
    "The null hypothesis is that these group have same predictions. The total variable distance of predictions R^2 scores of the dataframe binned by different impressions, is the same if we randomized the dataframe into 5 random groups. The difference of predictions of each bins just happened by chance.\n",
    "\n",
    "Alternative hypothesis is that these group have different predictions and they have a greater total variable distance of predictions R^2 scores among different bins of impressions.\n",
    "\n",
    "We will use the significance level of 0.05"
   ]
  },
  {
   "cell_type": "code",
   "execution_count": 146,
   "metadata": {},
   "outputs": [],
   "source": [
    "def final_predict(spa):\n",
    "    X = spa.drop('Impressions', axis=1)\n",
    "    y = spa.Impressions\n",
    "    preproc = ColumnTransformer(transformers=[\n",
    "            ('Spend', StandardScaler(), ['Spend']),\n",
    "            ('hot country', OneHotEncoder(handle_unknown='ignore'), ['CountryCode']),\n",
    "            ('age lower', OneHotEncoder(), ['age_lower']),\n",
    "            ('age upper', OneHotEncoder(), ['age_upper']),\n",
    "            ('Duration', FunctionTransformer(lambda x:x), ['Duration'])\n",
    "            ])\n",
    "    pl = Pipeline(steps=[('preprocessor', preproc), \n",
    "                         ('regressor', RandomForestClassifier(max_depth = 30, min_samples_split=15, min_samples_leaf=2))])\n",
    "    pl.fit(X, y)\n",
    "    return pl.predict(X)"
   ]
  },
  {
   "cell_type": "markdown",
   "metadata": {},
   "source": [
    "Find the bins from the original impressions"
   ]
  },
  {
   "cell_type": "code",
   "execution_count": 162,
   "metadata": {},
   "outputs": [],
   "source": [
    "total_score = final(spa)"
   ]
  },
  {
   "cell_type": "code",
   "execution_count": 163,
   "metadata": {},
   "outputs": [
    {
     "data": {
      "text/plain": [
       "0.7090229578216765"
      ]
     },
     "execution_count": 163,
     "metadata": {},
     "output_type": "execute_result"
    }
   ],
   "source": [
    "total_score"
   ]
  },
  {
   "cell_type": "markdown",
   "metadata": {},
   "source": [
    "Help us get observed value by qcut the impressions into 5 bins"
   ]
  },
  {
   "cell_type": "code",
   "execution_count": 153,
   "metadata": {},
   "outputs": [
    {
     "data": {
      "text/plain": [
       "[(84461.0, 243604.0], (0.999, 6843.0], (30639.0, 84461.0], (6843.0, 30639.0], (243604.0, 4402020.0]]\n",
       "Categories (5, interval[float64]): [(0.999, 6843.0] < (6843.0, 30639.0] < (30639.0, 84461.0] < (84461.0, 243604.0] < (243604.0, 4402020.0]]"
      ]
     },
     "execution_count": 153,
     "metadata": {},
     "output_type": "execute_result"
    }
   ],
   "source": [
    "pd.qcut(spa.Impressions, q=5).unique()"
   ]
  },
  {
   "cell_type": "code",
   "execution_count": 154,
   "metadata": {},
   "outputs": [],
   "source": [
    "def map_bin(num):\n",
    "    if num <= 6843:\n",
    "        return 'bin1'\n",
    "    elif num <= 30639:\n",
    "        return 'bin2'\n",
    "    elif num <= 84461:\n",
    "        return 'bin3'\n",
    "    elif num <= 243604:\n",
    "        return 'bin4'\n",
    "    else:\n",
    "        return 'bin5'"
   ]
  },
  {
   "cell_type": "code",
   "execution_count": 155,
   "metadata": {},
   "outputs": [
    {
     "data": {
      "text/plain": [
       "0       bin4\n",
       "1       bin1\n",
       "2       bin1\n",
       "3       bin4\n",
       "5       bin3\n",
       "        ... \n",
       "4263    bin4\n",
       "4264    bin3\n",
       "4265    bin5\n",
       "4266    bin3\n",
       "4267    bin4\n",
       "Name: Impressions, Length: 3746, dtype: object"
      ]
     },
     "execution_count": 155,
     "metadata": {},
     "output_type": "execute_result"
    }
   ],
   "source": [
    "origin_bins = pd.Series(spa.Impressions).apply(map_bin)\n",
    "origin_bins"
   ]
  },
  {
   "cell_type": "code",
   "execution_count": 182,
   "metadata": {},
   "outputs": [
    {
     "name": "stdout",
     "output_type": "stream",
     "text": [
      "observed difference of whole table prediction and table 1 is: 0.6653333333333333\n",
      "observed difference of whole table prediction and table 2 is: 0.7636849132176236\n",
      "observed difference of whole table prediction and table 3 is: 0.7169559412550067\n",
      "observed difference of whole table prediction and table 4 is: 0.6929238985313751\n",
      "observed difference of whole table prediction and table 5 is: 0.6995994659546061\n"
     ]
    }
   ],
   "source": [
    "df = spa.assign(bins = origin_bins)\n",
    "def get_df(df): return df[1]\n",
    "df_list = list(df.groupby('bins'))\n",
    "tables = pd.Series(list(map(get_df, df_list)))\n",
    "diff = []\n",
    "for i in range(len(tables)):\n",
    "    diff.append(final(tables[i]))\n",
    "    print('observed difference of whole table prediction and table ' + str(i + 1) + ' is: ' + str(final(tables[i])))"
   ]
  },
  {
   "cell_type": "code",
   "execution_count": 202,
   "metadata": {},
   "outputs": [],
   "source": [
    "def total_variation_distance(dist1, dist2):\n",
    "    '''Given two empirical distributions, \n",
    "    both sorted with same categories, calculates the TVD'''\n",
    "    return np.sum(np.abs(dist1 - dist2)) / 2"
   ]
  },
  {
   "cell_type": "code",
   "execution_count": 206,
   "metadata": {},
   "outputs": [
    {
     "data": {
      "text/plain": [
       "0.09792758928021966"
      ]
     },
     "execution_count": 206,
     "metadata": {},
     "output_type": "execute_result"
    }
   ],
   "source": [
    "obs_diff_sum = total_variation_distance(np.array(diff), np.array([total_score]*5))\n",
    "obs_diff_sum"
   ]
  },
  {
   "cell_type": "markdown",
   "metadata": {},
   "source": [
    "Permutation test"
   ]
  },
  {
   "cell_type": "code",
   "execution_count": 210,
   "metadata": {},
   "outputs": [],
   "source": [
    "perms = []\n",
    "for _ in range(100):\n",
    "    df = spa.assign(bins = origin_bins.sample(frac=1, replace=False))\n",
    "    def get_df(df): return df[1]\n",
    "    df_list = list(df.groupby('bins'))\n",
    "    tables = pd.Series(list(map(get_df, df_list)))\n",
    "    diff = []\n",
    "    for i in range(len(tables)):\n",
    "        diff.append(final(tables[i]))\n",
    "    test_statistic = total_variation_distance(np.array(diff), np.array([total_score]*5))\n",
    "    perms.append(test_statistic)"
   ]
  },
  {
   "cell_type": "code",
   "execution_count": 211,
   "metadata": {
    "scrolled": true
   },
   "outputs": [
    {
     "data": {
      "text/plain": [
       "[0.05929678653224768,\n",
       " 0.08465415190830466,\n",
       " 0.09933238955850493,\n",
       " 0.08858624526597841,\n",
       " 0.11735642160122856,\n",
       " 0.08665860228658678,\n",
       " 0.0719768043337608,\n",
       " 0.08934040023941281,\n",
       " 0.07981695900638475,\n",
       " 0.08065682213527398,\n",
       " 0.10993559996112756,\n",
       " 0.060476505067799946,\n",
       " 0.09132437887759703,\n",
       " 0.09459870632516848,\n",
       " 0.09801240736001798,\n",
       " 0.04528165524608835,\n",
       " 0.0918276399142619,\n",
       " 0.09651121801840074,\n",
       " 0.08315830302062593,\n",
       " 0.08866483281618182,\n",
       " 0.08524668140305003,\n",
       " 0.06056221322325478,\n",
       " 0.08591334806971668,\n",
       " 0.07716809385284668,\n",
       " 0.06864080077345819,\n",
       " 0.10458624526597843,\n",
       " 0.07923867072214225,\n",
       " 0.07857200405547549,\n",
       " 0.06330301706184271,\n",
       " 0.06857289413113193,\n",
       " 0.0839151282210297,\n",
       " 0.07122887988992149,\n",
       " 0.0539687936528529,\n",
       " 0.0752297699655779,\n",
       " 0.09524579132739369,\n",
       " 0.08391423814537319,\n",
       " 0.0572807651704319,\n",
       " 0.10785345210829833,\n",
       " 0.08182051930901046,\n",
       " 0.08190266716183964,\n",
       " 0.07257200405547554,\n",
       " 0.07455865292062908,\n",
       " 0.06990266716183952,\n",
       " 0.09667640379971548,\n",
       " 0.07182407961163628,\n",
       " 0.09467640379971543,\n",
       " 0.07999282569557659,\n",
       " 0.08124045087345505,\n",
       " 0.08324757147870654,\n",
       " 0.07056844375284987,\n",
       " 0.07374282183446351,\n",
       " 0.07658179488769629,\n",
       " 0.08732170865062777,\n",
       " 0.07590978776709106,\n",
       " 0.08263813054648889,\n",
       " 0.05846582415992274,\n",
       " 0.07181250862810257,\n",
       " 0.10852634930456012,\n",
       " 0.08333149948284846,\n",
       " 0.07324045087345504,\n",
       " 0.10260582693041992,\n",
       " 0.08931903842365846,\n",
       " 0.09383921089779551,\n",
       " 0.0684756149921435,\n",
       " 0.07515652286931307,\n",
       " 0.09467462364840251,\n",
       " 0.06189287632961882,\n",
       " 0.06921819898204423,\n",
       " 0.05730479721315551,\n",
       " 0.07982674983860544,\n",
       " 0.09198659516598157,\n",
       " 0.052471164613861365,\n",
       " 0.08324312110042431,\n",
       " 0.09867996410234114,\n",
       " 0.07122887988992138,\n",
       " 0.0926612725135561,\n",
       " 0.05921196845244925,\n",
       " 0.08182852998991835,\n",
       " 0.07865059160567894,\n",
       " 0.09392135875062463,\n",
       " 0.08391334806971668,\n",
       " 0.07656043307194199,\n",
       " 0.08598481501466865,\n",
       " 0.08731992849931486,\n",
       " 0.08056666360153697,\n",
       " 0.07114940226406163,\n",
       " 0.09325291193264501,\n",
       " 0.08065148168133529,\n",
       " 0.06989999693487026,\n",
       " 0.08400083637648448,\n",
       " 0.08865326183264816,\n",
       " 0.07382051930901046,\n",
       " 0.07524668140305008,\n",
       " 0.08123422034386002,\n",
       " 0.07590088701052677,\n",
       " 0.07715830302062593,\n",
       " 0.10126626306749154,\n",
       " 0.0799071175401217,\n",
       " 0.09058001473638339,\n",
       " 0.09860671700607632]"
      ]
     },
     "execution_count": 211,
     "metadata": {},
     "output_type": "execute_result"
    }
   ],
   "source": [
    "perms"
   ]
  },
  {
   "cell_type": "code",
   "execution_count": 212,
   "metadata": {},
   "outputs": [
    {
     "name": "stdout",
     "output_type": "stream",
     "text": [
      "0.11\n"
     ]
    },
    {
     "data": {
      "image/png": "[encoded data removed]",
      "text/plain": [
       "<Figure size 432x288 with 1 Axes>"
      ]
     },
     "metadata": {
      "image/png": {
       "height": 263,
       "width": 389
      },
      "needs_background": "light"
     },
     "output_type": "display_data"
    }
   ],
   "source": [
    "print(pd.Series(perms >= obs_diff_sum).mean())\n",
    "pd.Series(perms).plot(kind='hist', title='Permutation Test for loan scores across young/old groups')\n",
    "plt.scatter(obs_diff_sum, 0, c='r');"
   ]
  },
  {
   "cell_type": "markdown",
   "metadata": {},
   "source": [
    "Therefore we do not reject the null hythesis, because 0.11 is greater than our significant level threshold of 0.05.  The variations between the R^2 prediction scores of the impressions of different bins, grouped by the pd.qcut function, is random, and not due to significant difference. \n",
    "\n",
    "We can conclude that the model is fair on different amount of impressions. "
   ]
  },
  {
   "cell_type": "code",
   "execution_count": null,
   "metadata": {},
   "outputs": [],
   "source": []
  }
 ],
 "metadata": {
  "kernelspec": {
   "display_name": "Python 3",
   "language": "python",
   "name": "python3"
  },
  "language_info": {
   "codemirror_mode": {
    "name": "ipython",
    "version": 3
   },
   "file_extension": ".py",
   "mimetype": "text/x-python",
   "name": "python",
   "nbconvert_exporter": "python",
   "pygments_lexer": "ipython3",
   "version": "3.7.4"
  }
 },
 "nbformat": 4,
 "nbformat_minor": 2
}
